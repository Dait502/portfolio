{
 "cells": [
  {
   "cell_type": "markdown",
   "id": "0486ffa3",
   "metadata": {},
   "source": [
    "# Цель работы"
   ]
  },
  {
   "cell_type": "markdown",
   "id": "7b5fe78b",
   "metadata": {},
   "source": [
    "У нас есть логи посетителей интернет магазина. <br> \n",
    "Наша задача - преобразовать их в удобный вид, поместить в базу данных и создать по ним дашборд с основными показателями этого магазина. <br> Поднимать базу данных будем с помощью докера <br>\n",
    "База данных: Clickhouse <br>\n",
    "BI-система : Yandex Datalens <br>\n",
    "Итоговый дашборд доступен по [ссылке](https://datalens.yandex/kh78hvzugxxw8)"
   ]
  },
  {
   "cell_type": "markdown",
   "id": "c395aea9",
   "metadata": {},
   "source": [
    "## Содержание:\n",
    "1. [Docker](#1)\n",
    "1. [Подготовка данных](#2)\n",
    "    1. [Структура БД](#2_1)\n",
    "    1. [Парсинг](#2_2)\n",
    "1. [Предобработка](#3)\n",
    "    1. [Users](#3_1)\n",
    "    1. [Products](#3_2)\n",
    "    1. [User_actions](#3_3)\n",
    "    1. [Orders](#3_4)\n",
    "1. [Работа с БД](#4)\n",
    "1. [Datalens](#5)\n",
    "    1. [Настройка окружения](#3_1)\n",
    "    1. [Дашборд](#3_2)\n",
    "\n"
   ]
  },
  {
   "cell_type": "markdown",
   "id": "9c771bb7",
   "metadata": {},
   "source": [
    "# Docker <a class=\"anchor\" id=\"1\"></a>"
   ]
  },
  {
   "cell_type": "markdown",
   "id": "beda62bd",
   "metadata": {},
   "source": [
    "Для реализации проекта нам потребуется три 3 образа: jupyter-notebook, clickhouse и datalens <br>\n",
    "Начнем с первых двух. Поднимать кликхаус и юпитер будем через docker-compose файл где и пропишем все основные параметры"
   ]
  },
  {
   "cell_type": "markdown",
   "id": "7d8dc89c",
   "metadata": {},
   "source": [
    "Начнем с кликхауса"
   ]
  },
  {
   "cell_type": "markdown",
   "id": "032cd9d4",
   "metadata": {},
   "source": [
    "```docker\n",
    "clickhouse:\n",
    "    image: yandex/clickhouse-server\n",
    "    restart: always\n",
    "    container_name: clickhouse-server\n",
    "    volumes:\n",
    "      - data_dir:/var/lib/clickhouse\n",
    "      - ./config.xml:/etc/clickhouse-server/config.d/config.xml # Файл конфигурации\n",
    "    environment:\n",
    "      CLICKHOUSE_USER: igor\n",
    "      CLICKHOUSE_PASSWORD: secret\n",
    "    ulimits:\n",
    "      nofile: 262144 \n",
    "    networks:\n",
    "      - datalens_default\n",
    "```"
   ]
  },
  {
   "cell_type": "markdown",
   "id": "28239570",
   "metadata": {},
   "source": [
    "Тут мы прописываем само имя нашего контейнетра, путь к волюмам где будут храниться наши данные, а также параметры окружения в виде имени пользователя и пароля. Также все наши образы будут поключены к одной сети datalens_default, чтобы в будущем не было проблем с их взаимодействием"
   ]
  },
  {
   "cell_type": "markdown",
   "id": "11739a2a",
   "metadata": {},
   "source": [
    "С юпитер ноутбуком ситуация похожая"
   ]
  },
  {
   "cell_type": "markdown",
   "id": "a8bce363",
   "metadata": {},
   "source": [
    " ```docker\n",
    " jupyter:\n",
    "    container_name: my_notebook\n",
    "    ports:\n",
    "      - \"8888:8888\"\n",
    "    volumes:\n",
    "      - .:/home/jovyan/\n",
    "    build:\n",
    "      context: .\n",
    "      dockerfile: Dockerfile\n",
    "    environment:\n",
    "    - JUPYTER_TOKEN=easy\n",
    "    networks:\n",
    "      - datalens_default\n",
    " ```"
   ]
  },
  {
   "cell_type": "markdown",
   "id": "e77ba4f7",
   "metadata": {},
   "source": [
    "Только мы еще подключили порт для соединения + сам образ будет подниматься из отдельного докерфайла такого содержания:"
   ]
  },
  {
   "cell_type": "markdown",
   "id": "9f3d000b",
   "metadata": {},
   "source": [
    "```docker\n",
    "FROM jupyter/datascience-notebook:r-4.0.3\n",
    "RUN pip3 install clickhouse-connect\n",
    "RUN export JUPYTER_RUNTIME_DIR=\"./.jupyter_runtime\"\n",
    "```"
   ]
  },
  {
   "cell_type": "markdown",
   "id": "c425d9f0",
   "metadata": {},
   "source": [
    "Тут мы дополнительно прописали команду  для установки нужной библиотеки для подключения к кликхаусу и команду для избежания некоторых ошибок"
   ]
  },
  {
   "cell_type": "markdown",
   "id": "d94dee39",
   "metadata": {},
   "source": [
    "Пока с докером все, прописываем команду \"docker-compose up -d\" и идем обрабатывать данные"
   ]
  },
  {
   "cell_type": "markdown",
   "id": "165bbe06",
   "metadata": {},
   "source": [
    "# Предобработка данных <a class=\"anchor\" id=\"2\"></a>"
   ]
  },
  {
   "cell_type": "markdown",
   "id": "7ea1c9ca",
   "metadata": {},
   "source": [
    "## Структура БД <a class=\"anchor\" id=\"2_1\"></a>"
   ]
  },
  {
   "cell_type": "code",
   "execution_count": 112,
   "id": "577324fa",
   "metadata": {},
   "outputs": [],
   "source": [
    "import requests\n",
    "from bs4 import BeautifulSoup\n",
    "import pandas as pd\n",
    "import clickhouse_connect\n",
    "import numpy as np"
   ]
  },
  {
   "cell_type": "code",
   "execution_count": 113,
   "id": "038a66b7",
   "metadata": {},
   "outputs": [],
   "source": [
    "df = pd.read_csv('raw_logs.csv')"
   ]
  },
  {
   "cell_type": "code",
   "execution_count": 114,
   "id": "d315943b",
   "metadata": {
    "scrolled": true
   },
   "outputs": [
    {
     "data": {
      "text/html": [
       "<div>\n",
       "<style scoped>\n",
       "    .dataframe tbody tr th:only-of-type {\n",
       "        vertical-align: middle;\n",
       "    }\n",
       "\n",
       "    .dataframe tbody tr th {\n",
       "        vertical-align: top;\n",
       "    }\n",
       "\n",
       "    .dataframe thead th {\n",
       "        text-align: right;\n",
       "    }\n",
       "</style>\n",
       "<table border=\"1\" class=\"dataframe\">\n",
       "  <thead>\n",
       "    <tr style=\"text-align: right;\">\n",
       "      <th></th>\n",
       "      <th>event_time</th>\n",
       "      <th>event_type</th>\n",
       "      <th>product_id</th>\n",
       "      <th>category_id</th>\n",
       "      <th>category_code</th>\n",
       "      <th>brand</th>\n",
       "      <th>price</th>\n",
       "      <th>user_id</th>\n",
       "      <th>accessed_Ffom</th>\n",
       "      <th>age</th>\n",
       "      <th>gender</th>\n",
       "      <th>country</th>\n",
       "      <th>membership</th>\n",
       "      <th>returned</th>\n",
       "      <th>pay_method</th>\n",
       "      <th>order_id</th>\n",
       "    </tr>\n",
       "  </thead>\n",
       "  <tbody>\n",
       "    <tr>\n",
       "      <th>0</th>\n",
       "      <td>2020-09-24 11:57:06 UTC</td>\n",
       "      <td>view</td>\n",
       "      <td>1996170</td>\n",
       "      <td>8452715</td>\n",
       "      <td>electronics.telephone</td>\n",
       "      <td>NaN</td>\n",
       "      <td>31.90</td>\n",
       "      <td>3034812</td>\n",
       "      <td>Chrome</td>\n",
       "      <td>23</td>\n",
       "      <td>Male</td>\n",
       "      <td>US</td>\n",
       "      <td>Premium</td>\n",
       "      <td>No</td>\n",
       "      <td>Cash</td>\n",
       "      <td>0</td>\n",
       "    </tr>\n",
       "    <tr>\n",
       "      <th>1</th>\n",
       "      <td>2020-10-23 05:30:06 UTC</td>\n",
       "      <td>view</td>\n",
       "      <td>1785245</td>\n",
       "      <td>1480748</td>\n",
       "      <td>stationery.cartrige</td>\n",
       "      <td>canon</td>\n",
       "      <td>43.11</td>\n",
       "      <td>3034812</td>\n",
       "      <td>Chrome</td>\n",
       "      <td>23</td>\n",
       "      <td>Male</td>\n",
       "      <td>US</td>\n",
       "      <td>Premium</td>\n",
       "      <td>No</td>\n",
       "      <td>Cash</td>\n",
       "      <td>0</td>\n",
       "    </tr>\n",
       "    <tr>\n",
       "      <th>2</th>\n",
       "      <td>2020-12-12 16:13:11 UTC</td>\n",
       "      <td>cart</td>\n",
       "      <td>1443968</td>\n",
       "      <td>9479855</td>\n",
       "      <td>electronics.telephone</td>\n",
       "      <td>sirius</td>\n",
       "      <td>9.83</td>\n",
       "      <td>3034812</td>\n",
       "      <td>Chrome</td>\n",
       "      <td>23</td>\n",
       "      <td>Male</td>\n",
       "      <td>US</td>\n",
       "      <td>Premium</td>\n",
       "      <td>No</td>\n",
       "      <td>Cash</td>\n",
       "      <td>0</td>\n",
       "    </tr>\n",
       "    <tr>\n",
       "      <th>3</th>\n",
       "      <td>2021-01-29 22:43:00 UTC</td>\n",
       "      <td>view</td>\n",
       "      <td>4079061</td>\n",
       "      <td>7789416</td>\n",
       "      <td>computers.components.videocards</td>\n",
       "      <td>powercolor</td>\n",
       "      <td>399.48</td>\n",
       "      <td>3034812</td>\n",
       "      <td>Chrome</td>\n",
       "      <td>23</td>\n",
       "      <td>Male</td>\n",
       "      <td>US</td>\n",
       "      <td>Premium</td>\n",
       "      <td>No</td>\n",
       "      <td>Cash</td>\n",
       "      <td>0</td>\n",
       "    </tr>\n",
       "    <tr>\n",
       "      <th>4</th>\n",
       "      <td>2020-09-24 11:57:26 UTC</td>\n",
       "      <td>view</td>\n",
       "      <td>139905</td>\n",
       "      <td>2472027</td>\n",
       "      <td>computers.components.cooler</td>\n",
       "      <td>zalman</td>\n",
       "      <td>17.16</td>\n",
       "      <td>8870078</td>\n",
       "      <td>Chrome</td>\n",
       "      <td>52</td>\n",
       "      <td>Male</td>\n",
       "      <td>CN</td>\n",
       "      <td>Normal</td>\n",
       "      <td>No</td>\n",
       "      <td>Others</td>\n",
       "      <td>0</td>\n",
       "    </tr>\n",
       "  </tbody>\n",
       "</table>\n",
       "</div>"
      ],
      "text/plain": [
       "                event_time event_type  product_id  category_id  \\\n",
       "0  2020-09-24 11:57:06 UTC       view     1996170      8452715   \n",
       "1  2020-10-23 05:30:06 UTC       view     1785245      1480748   \n",
       "2  2020-12-12 16:13:11 UTC       cart     1443968      9479855   \n",
       "3  2021-01-29 22:43:00 UTC       view     4079061      7789416   \n",
       "4  2020-09-24 11:57:26 UTC       view      139905      2472027   \n",
       "\n",
       "                     category_code       brand   price  user_id accessed_Ffom  \\\n",
       "0            electronics.telephone         NaN   31.90  3034812        Chrome   \n",
       "1              stationery.cartrige       canon   43.11  3034812        Chrome   \n",
       "2            electronics.telephone      sirius    9.83  3034812        Chrome   \n",
       "3  computers.components.videocards  powercolor  399.48  3034812        Chrome   \n",
       "4      computers.components.cooler      zalman   17.16  8870078        Chrome   \n",
       "\n",
       "  age gender country membership returned pay_method  order_id  \n",
       "0  23   Male      US    Premium       No       Cash         0  \n",
       "1  23   Male      US    Premium       No       Cash         0  \n",
       "2  23   Male      US    Premium       No       Cash         0  \n",
       "3  23   Male      US    Premium       No       Cash         0  \n",
       "4  52   Male      CN     Normal       No     Others         0  "
      ]
     },
     "execution_count": 114,
     "metadata": {},
     "output_type": "execute_result"
    }
   ],
   "source": [
    "df.head()"
   ]
  },
  {
   "cell_type": "markdown",
   "id": "1d0dcf8e",
   "metadata": {},
   "source": [
    "Посмотрим на количество данных"
   ]
  },
  {
   "cell_type": "code",
   "execution_count": 115,
   "id": "4e1827b3",
   "metadata": {},
   "outputs": [
    {
     "data": {
      "text/plain": [
       "(903103, 16)"
      ]
     },
     "execution_count": 115,
     "metadata": {},
     "output_type": "execute_result"
    }
   ],
   "source": [
    "df.shape"
   ]
  },
  {
   "cell_type": "markdown",
   "id": "988abb7f",
   "metadata": {},
   "source": [
    "Немало, для удобства разделим все данные на таблицы по следующей схеме"
   ]
  },
  {
   "attachments": {
    "image-2.png": {
     "image/png": "[encoded data removed]"
    }
   },
   "cell_type": "markdown",
   "id": "1cd77d9d",
   "metadata": {},
   "source": [
    "![image-2.png](attachment:image-2.png)"
   ]
  },
  {
   "cell_type": "markdown",
   "id": "b67ac500",
   "metadata": {},
   "source": [
    "Сейчас ее и реализуем. <br>\n",
    "Начнем с таблицы users"
   ]
  },
  {
   "cell_type": "code",
   "execution_count": 116,
   "id": "7b4f1dad",
   "metadata": {},
   "outputs": [],
   "source": [
    "users = df.loc[:,['user_id','age','gender','country','membership']]"
   ]
  },
  {
   "cell_type": "markdown",
   "id": "90397ba4",
   "metadata": {},
   "source": [
    "Удалим возможные дубликаты"
   ]
  },
  {
   "cell_type": "code",
   "execution_count": 117,
   "id": "ea790df6",
   "metadata": {},
   "outputs": [],
   "source": [
    "users.drop_duplicates(subset='user_id',inplace=True)"
   ]
  },
  {
   "cell_type": "code",
   "execution_count": 118,
   "id": "23909e2e",
   "metadata": {},
   "outputs": [
    {
     "data": {
      "text/plain": [
       "230341"
      ]
     },
     "execution_count": 118,
     "metadata": {},
     "output_type": "execute_result"
    }
   ],
   "source": [
    "users.user_id.nunique()"
   ]
  },
  {
   "cell_type": "code",
   "execution_count": 119,
   "id": "042b8c22",
   "metadata": {},
   "outputs": [
    {
     "data": {
      "text/plain": [
       "(230341, 5)"
      ]
     },
     "execution_count": 119,
     "metadata": {},
     "output_type": "execute_result"
    }
   ],
   "source": [
    "users.shape"
   ]
  },
  {
   "cell_type": "markdown",
   "id": "74233e98",
   "metadata": {},
   "source": [
    "Отлично, посмотрим что получилось"
   ]
  },
  {
   "cell_type": "code",
   "execution_count": 120,
   "id": "4b1124a9",
   "metadata": {},
   "outputs": [
    {
     "data": {
      "text/html": [
       "<div>\n",
       "<style scoped>\n",
       "    .dataframe tbody tr th:only-of-type {\n",
       "        vertical-align: middle;\n",
       "    }\n",
       "\n",
       "    .dataframe tbody tr th {\n",
       "        vertical-align: top;\n",
       "    }\n",
       "\n",
       "    .dataframe thead th {\n",
       "        text-align: right;\n",
       "    }\n",
       "</style>\n",
       "<table border=\"1\" class=\"dataframe\">\n",
       "  <thead>\n",
       "    <tr style=\"text-align: right;\">\n",
       "      <th></th>\n",
       "      <th>user_id</th>\n",
       "      <th>age</th>\n",
       "      <th>gender</th>\n",
       "      <th>country</th>\n",
       "      <th>membership</th>\n",
       "    </tr>\n",
       "  </thead>\n",
       "  <tbody>\n",
       "    <tr>\n",
       "      <th>0</th>\n",
       "      <td>3034812</td>\n",
       "      <td>23</td>\n",
       "      <td>Male</td>\n",
       "      <td>US</td>\n",
       "      <td>Premium</td>\n",
       "    </tr>\n",
       "    <tr>\n",
       "      <th>4</th>\n",
       "      <td>8870078</td>\n",
       "      <td>52</td>\n",
       "      <td>Male</td>\n",
       "      <td>CN</td>\n",
       "      <td>Normal</td>\n",
       "    </tr>\n",
       "    <tr>\n",
       "      <th>8</th>\n",
       "      <td>1376091</td>\n",
       "      <td>NaN</td>\n",
       "      <td>Unknown</td>\n",
       "      <td>US</td>\n",
       "      <td>Premium</td>\n",
       "    </tr>\n",
       "    <tr>\n",
       "      <th>14</th>\n",
       "      <td>1075108</td>\n",
       "      <td>NaN</td>\n",
       "      <td>Female</td>\n",
       "      <td>CH</td>\n",
       "      <td>Premium</td>\n",
       "    </tr>\n",
       "    <tr>\n",
       "      <th>20</th>\n",
       "      <td>7170390</td>\n",
       "      <td>NaN</td>\n",
       "      <td>Female</td>\n",
       "      <td>US</td>\n",
       "      <td>Premium</td>\n",
       "    </tr>\n",
       "  </tbody>\n",
       "</table>\n",
       "</div>"
      ],
      "text/plain": [
       "    user_id  age   gender country membership\n",
       "0   3034812   23     Male      US    Premium\n",
       "4   8870078   52     Male      CN     Normal\n",
       "8   1376091  NaN  Unknown      US    Premium\n",
       "14  1075108  NaN   Female      CH    Premium\n",
       "20  7170390  NaN   Female      US    Premium"
      ]
     },
     "execution_count": 120,
     "metadata": {},
     "output_type": "execute_result"
    }
   ],
   "source": [
    "users.head()"
   ]
  },
  {
   "cell_type": "markdown",
   "id": "98813b91",
   "metadata": {},
   "source": [
    "Так, тут есть проблема, страны названы не совсем понятными аббревиатурами. В следующем пункте исправим это, а пока идем дальше"
   ]
  },
  {
   "cell_type": "code",
   "execution_count": 121,
   "id": "e80e4fe2",
   "metadata": {},
   "outputs": [],
   "source": [
    "orders = df.loc[:,['order_id','product_id','pay_method','returned']]"
   ]
  },
  {
   "cell_type": "code",
   "execution_count": 122,
   "id": "6a81c1dd",
   "metadata": {},
   "outputs": [
    {
     "data": {
      "text/plain": [
       "0          865007\n",
       "3173459         1\n",
       "3173730         1\n",
       "3173927         1\n",
       "3174044         1\n",
       "            ...  \n",
       "1582853         1\n",
       "1582922         1\n",
       "1583032         1\n",
       "1583114         1\n",
       "4753923         1\n",
       "Name: order_id, Length: 38097, dtype: int64"
      ]
     },
     "execution_count": 122,
     "metadata": {},
     "output_type": "execute_result"
    }
   ],
   "source": [
    "df.order_id.value_counts()"
   ]
  },
  {
   "cell_type": "markdown",
   "id": "f9a00239",
   "metadata": {},
   "source": [
    "Видимо нули это действия где не был совершен заказ, стоит их убрать"
   ]
  },
  {
   "cell_type": "code",
   "execution_count": 123,
   "id": "4f515613",
   "metadata": {},
   "outputs": [],
   "source": [
    "orders = orders[orders['order_id']!=0]"
   ]
  },
  {
   "cell_type": "markdown",
   "id": "c98fc9dd",
   "metadata": {},
   "source": [
    "Тоже самое делаем с products"
   ]
  },
  {
   "cell_type": "code",
   "execution_count": 124,
   "id": "96da6a60",
   "metadata": {},
   "outputs": [],
   "source": [
    "products = df.loc[:,['product_id','category_id','category_code','brand','price']]"
   ]
  },
  {
   "cell_type": "code",
   "execution_count": 125,
   "id": "10ea4892",
   "metadata": {},
   "outputs": [],
   "source": [
    "products.drop_duplicates(subset='product_id',inplace=True)"
   ]
  },
  {
   "cell_type": "markdown",
   "id": "3a0e79b4",
   "metadata": {},
   "source": [
    "Осталась только таблица с действиями, чтобы создать ее просто удалим из основного датафрейма лишние столбцы"
   ]
  },
  {
   "cell_type": "code",
   "execution_count": 126,
   "id": "e1fef411",
   "metadata": {},
   "outputs": [],
   "source": [
    "user_actions = df.drop(columns = ['product_id','category_id','category_code',\n",
    "                   'brand','price','age','gender','country',\n",
    "                   'membership','pay_method','returned']).copy()"
   ]
  },
  {
   "cell_type": "code",
   "execution_count": 127,
   "id": "6c7db30a",
   "metadata": {},
   "outputs": [
    {
     "data": {
      "text/html": [
       "<div>\n",
       "<style scoped>\n",
       "    .dataframe tbody tr th:only-of-type {\n",
       "        vertical-align: middle;\n",
       "    }\n",
       "\n",
       "    .dataframe tbody tr th {\n",
       "        vertical-align: top;\n",
       "    }\n",
       "\n",
       "    .dataframe thead th {\n",
       "        text-align: right;\n",
       "    }\n",
       "</style>\n",
       "<table border=\"1\" class=\"dataframe\">\n",
       "  <thead>\n",
       "    <tr style=\"text-align: right;\">\n",
       "      <th></th>\n",
       "      <th>event_time</th>\n",
       "      <th>event_type</th>\n",
       "      <th>user_id</th>\n",
       "      <th>accessed_Ffom</th>\n",
       "      <th>order_id</th>\n",
       "    </tr>\n",
       "  </thead>\n",
       "  <tbody>\n",
       "    <tr>\n",
       "      <th>0</th>\n",
       "      <td>2020-09-24 11:57:06 UTC</td>\n",
       "      <td>view</td>\n",
       "      <td>3034812</td>\n",
       "      <td>Chrome</td>\n",
       "      <td>0</td>\n",
       "    </tr>\n",
       "    <tr>\n",
       "      <th>1</th>\n",
       "      <td>2020-10-23 05:30:06 UTC</td>\n",
       "      <td>view</td>\n",
       "      <td>3034812</td>\n",
       "      <td>Chrome</td>\n",
       "      <td>0</td>\n",
       "    </tr>\n",
       "    <tr>\n",
       "      <th>2</th>\n",
       "      <td>2020-12-12 16:13:11 UTC</td>\n",
       "      <td>cart</td>\n",
       "      <td>3034812</td>\n",
       "      <td>Chrome</td>\n",
       "      <td>0</td>\n",
       "    </tr>\n",
       "    <tr>\n",
       "      <th>3</th>\n",
       "      <td>2021-01-29 22:43:00 UTC</td>\n",
       "      <td>view</td>\n",
       "      <td>3034812</td>\n",
       "      <td>Chrome</td>\n",
       "      <td>0</td>\n",
       "    </tr>\n",
       "    <tr>\n",
       "      <th>4</th>\n",
       "      <td>2020-09-24 11:57:26 UTC</td>\n",
       "      <td>view</td>\n",
       "      <td>8870078</td>\n",
       "      <td>Chrome</td>\n",
       "      <td>0</td>\n",
       "    </tr>\n",
       "  </tbody>\n",
       "</table>\n",
       "</div>"
      ],
      "text/plain": [
       "                event_time event_type  user_id accessed_Ffom  order_id\n",
       "0  2020-09-24 11:57:06 UTC       view  3034812        Chrome         0\n",
       "1  2020-10-23 05:30:06 UTC       view  3034812        Chrome         0\n",
       "2  2020-12-12 16:13:11 UTC       cart  3034812        Chrome         0\n",
       "3  2021-01-29 22:43:00 UTC       view  3034812        Chrome         0\n",
       "4  2020-09-24 11:57:26 UTC       view  8870078        Chrome         0"
      ]
     },
     "execution_count": 127,
     "metadata": {},
     "output_type": "execute_result"
    }
   ],
   "source": [
    "user_actions.head()"
   ]
  },
  {
   "cell_type": "code",
   "execution_count": 128,
   "id": "2fa3115f",
   "metadata": {},
   "outputs": [
    {
     "data": {
      "text/plain": [
       "1070       1\n",
       "3173459    1\n",
       "3173730    1\n",
       "3173927    1\n",
       "3174044    1\n",
       "          ..\n",
       "1582853    1\n",
       "1582922    1\n",
       "1583032    1\n",
       "1583114    1\n",
       "4753923    1\n",
       "Name: order_id, Length: 38096, dtype: int64"
      ]
     },
     "execution_count": 128,
     "metadata": {},
     "output_type": "execute_result"
    }
   ],
   "source": [
    "orders.order_id.value_counts()"
   ]
  },
  {
   "cell_type": "markdown",
   "id": "43d67103",
   "metadata": {},
   "source": [
    "## Парсинг <a class=\"anchor\" id=\"2_2\"></a>"
   ]
  },
  {
   "cell_type": "markdown",
   "id": "9baf227c",
   "metadata": {},
   "source": [
    "Чтобы заменить аббревиатуры стран в таблице users на полные названия нужно спарсить из интернета полную таблицу с сокращениями. <br>\n",
    "Для этого будем использовать библиотеки requests и BeatifulSoup\n"
   ]
  },
  {
   "cell_type": "code",
   "execution_count": 129,
   "id": "9fbbc167",
   "metadata": {},
   "outputs": [],
   "source": [
    "url = 'https://www.artlebedev.ru/country-list/' # возьмем эту таблицу с сайта студии Артемия Лебедева\n",
    "r = requests.get(url) # делаем запрос к сайту\n",
    "soup = BeautifulSoup(r.text,'html.parser') # достаем весь html код"
   ]
  },
  {
   "cell_type": "code",
   "execution_count": 130,
   "id": "47309a43",
   "metadata": {},
   "outputs": [],
   "source": [
    "table = soup.find('table') # находим тэг таблицы"
   ]
  },
  {
   "cell_type": "markdown",
   "id": "46842353",
   "metadata": {},
   "source": [
    "Названия стран и аббревиатур находятся в тегах td, чтобы их достать нам нужно выбирать эти теги с нужным интервалом"
   ]
  },
  {
   "cell_type": "code",
   "execution_count": 131,
   "id": "987b3d5d",
   "metadata": {},
   "outputs": [],
   "source": [
    "countr = table.find_all('td')[2::8]"
   ]
  },
  {
   "cell_type": "code",
   "execution_count": 132,
   "id": "d2cc981b",
   "metadata": {},
   "outputs": [],
   "source": [
    "abbr = table.find_all('td')[3::8]"
   ]
  },
  {
   "cell_type": "code",
   "execution_count": 133,
   "id": "c288887b",
   "metadata": {},
   "outputs": [
    {
     "data": {
      "text/plain": [
       "(<td>Abkhazia</td>, <td>AB</td>)"
      ]
     },
     "execution_count": 133,
     "metadata": {},
     "output_type": "execute_result"
    }
   ],
   "source": [
    "countr[0], abbr[0]"
   ]
  },
  {
   "cell_type": "markdown",
   "id": "b9c2ca27",
   "metadata": {},
   "source": [
    "Отлично, все получилось, осталось только избавится он лишних знаков"
   ]
  },
  {
   "cell_type": "code",
   "execution_count": 134,
   "id": "b3d773c2",
   "metadata": {},
   "outputs": [
    {
     "data": {
      "text/plain": [
       "'Abkhazia'"
      ]
     },
     "execution_count": 134,
     "metadata": {},
     "output_type": "execute_result"
    }
   ],
   "source": [
    "str(countr[0]).split('<')[1].split('>')[1]"
   ]
  },
  {
   "cell_type": "code",
   "execution_count": 135,
   "id": "cabd434d",
   "metadata": {},
   "outputs": [
    {
     "data": {
      "text/plain": [
       "'AB'"
      ]
     },
     "execution_count": 135,
     "metadata": {},
     "output_type": "execute_result"
    }
   ],
   "source": [
    "str(abbr[0]).split('<')[1].split('>')[1]"
   ]
  },
  {
   "cell_type": "markdown",
   "id": "0fdc9d26",
   "metadata": {},
   "source": [
    "Будем помещать очищенные знаки в отдельные массивы"
   ]
  },
  {
   "cell_type": "code",
   "execution_count": 136,
   "id": "ec31316b",
   "metadata": {},
   "outputs": [],
   "source": [
    "col1 = [0 for _ in range(len(countr))]\n",
    "col2 = [0 for _ in range(len(countr))]\n",
    "for i in range(len(countr)):\n",
    "    c = str(countr[i]).split('<')[1].split('>')[1]\n",
    "    a = str(abbr[i]).split('<')[1].split('>')[1]\n",
    "    col1[i] = c\n",
    "    col2[i] = a"
   ]
  },
  {
   "cell_type": "code",
   "execution_count": 137,
   "id": "3579153e",
   "metadata": {
    "scrolled": true
   },
   "outputs": [
    {
     "data": {
      "text/plain": [
       "(['Abkhazia', 'Australia', 'Austria', 'Azerbaijan'], ['AB', 'AU', 'AT', 'AZ'])"
      ]
     },
     "execution_count": 137,
     "metadata": {},
     "output_type": "execute_result"
    }
   ],
   "source": [
    "col1[:4],col2[:4]"
   ]
  },
  {
   "cell_type": "markdown",
   "id": "538d1f02",
   "metadata": {},
   "source": [
    "Теперь поместим полученные данные в датафрейм и соединим его с основной таблицей users"
   ]
  },
  {
   "cell_type": "code",
   "execution_count": 138,
   "id": "8009917b",
   "metadata": {},
   "outputs": [],
   "source": [
    "df_ab = pd.DataFrame({'Full_name':col1,'country':col2})"
   ]
  },
  {
   "cell_type": "code",
   "execution_count": 139,
   "id": "16f70cc2",
   "metadata": {},
   "outputs": [
    {
     "data": {
      "text/html": [
       "<div>\n",
       "<style scoped>\n",
       "    .dataframe tbody tr th:only-of-type {\n",
       "        vertical-align: middle;\n",
       "    }\n",
       "\n",
       "    .dataframe tbody tr th {\n",
       "        vertical-align: top;\n",
       "    }\n",
       "\n",
       "    .dataframe thead th {\n",
       "        text-align: right;\n",
       "    }\n",
       "</style>\n",
       "<table border=\"1\" class=\"dataframe\">\n",
       "  <thead>\n",
       "    <tr style=\"text-align: right;\">\n",
       "      <th></th>\n",
       "      <th>Full_name</th>\n",
       "      <th>country</th>\n",
       "    </tr>\n",
       "  </thead>\n",
       "  <tbody>\n",
       "    <tr>\n",
       "      <th>0</th>\n",
       "      <td>Abkhazia</td>\n",
       "      <td>AB</td>\n",
       "    </tr>\n",
       "    <tr>\n",
       "      <th>1</th>\n",
       "      <td>Australia</td>\n",
       "      <td>AU</td>\n",
       "    </tr>\n",
       "    <tr>\n",
       "      <th>2</th>\n",
       "      <td>Austria</td>\n",
       "      <td>AT</td>\n",
       "    </tr>\n",
       "    <tr>\n",
       "      <th>3</th>\n",
       "      <td>Azerbaijan</td>\n",
       "      <td>AZ</td>\n",
       "    </tr>\n",
       "    <tr>\n",
       "      <th>4</th>\n",
       "      <td>Albania</td>\n",
       "      <td>AL</td>\n",
       "    </tr>\n",
       "  </tbody>\n",
       "</table>\n",
       "</div>"
      ],
      "text/plain": [
       "    Full_name country\n",
       "0    Abkhazia      AB\n",
       "1   Australia      AU\n",
       "2     Austria      AT\n",
       "3  Azerbaijan      AZ\n",
       "4     Albania      AL"
      ]
     },
     "execution_count": 139,
     "metadata": {},
     "output_type": "execute_result"
    }
   ],
   "source": [
    "df_ab.head()"
   ]
  },
  {
   "cell_type": "code",
   "execution_count": 140,
   "id": "262ce3c0",
   "metadata": {},
   "outputs": [],
   "source": [
    "was = users.shape[0]"
   ]
  },
  {
   "cell_type": "code",
   "execution_count": 141,
   "id": "1fe8ba03",
   "metadata": {
    "scrolled": true
   },
   "outputs": [
    {
     "data": {
      "text/html": [
       "<div>\n",
       "<style scoped>\n",
       "    .dataframe tbody tr th:only-of-type {\n",
       "        vertical-align: middle;\n",
       "    }\n",
       "\n",
       "    .dataframe tbody tr th {\n",
       "        vertical-align: top;\n",
       "    }\n",
       "\n",
       "    .dataframe thead th {\n",
       "        text-align: right;\n",
       "    }\n",
       "</style>\n",
       "<table border=\"1\" class=\"dataframe\">\n",
       "  <thead>\n",
       "    <tr style=\"text-align: right;\">\n",
       "      <th></th>\n",
       "      <th>user_id</th>\n",
       "      <th>age</th>\n",
       "      <th>gender</th>\n",
       "      <th>country</th>\n",
       "      <th>membership</th>\n",
       "      <th>Full_name</th>\n",
       "    </tr>\n",
       "  </thead>\n",
       "  <tbody>\n",
       "    <tr>\n",
       "      <th>0</th>\n",
       "      <td>3034812</td>\n",
       "      <td>23</td>\n",
       "      <td>Male</td>\n",
       "      <td>US</td>\n",
       "      <td>Premium</td>\n",
       "      <td>United States</td>\n",
       "    </tr>\n",
       "    <tr>\n",
       "      <th>1</th>\n",
       "      <td>1376091</td>\n",
       "      <td>NaN</td>\n",
       "      <td>Unknown</td>\n",
       "      <td>US</td>\n",
       "      <td>Premium</td>\n",
       "      <td>United States</td>\n",
       "    </tr>\n",
       "    <tr>\n",
       "      <th>2</th>\n",
       "      <td>7170390</td>\n",
       "      <td>NaN</td>\n",
       "      <td>Female</td>\n",
       "      <td>US</td>\n",
       "      <td>Premium</td>\n",
       "      <td>United States</td>\n",
       "    </tr>\n",
       "    <tr>\n",
       "      <th>3</th>\n",
       "      <td>3061938</td>\n",
       "      <td>NaN</td>\n",
       "      <td>Female</td>\n",
       "      <td>US</td>\n",
       "      <td>Premium</td>\n",
       "      <td>United States</td>\n",
       "    </tr>\n",
       "    <tr>\n",
       "      <th>4</th>\n",
       "      <td>547325</td>\n",
       "      <td>NaN</td>\n",
       "      <td>Female</td>\n",
       "      <td>US</td>\n",
       "      <td>Normal</td>\n",
       "      <td>United States</td>\n",
       "    </tr>\n",
       "  </tbody>\n",
       "</table>\n",
       "</div>"
      ],
      "text/plain": [
       "   user_id  age   gender country membership      Full_name\n",
       "0  3034812   23     Male      US    Premium  United States\n",
       "1  1376091  NaN  Unknown      US    Premium  United States\n",
       "2  7170390  NaN   Female      US    Premium  United States\n",
       "3  3061938  NaN   Female      US    Premium  United States\n",
       "4   547325  NaN   Female      US     Normal  United States"
      ]
     },
     "execution_count": 141,
     "metadata": {},
     "output_type": "execute_result"
    }
   ],
   "source": [
    "users = users.merge(df_ab,on='country')\n",
    "users.head()"
   ]
  },
  {
   "cell_type": "code",
   "execution_count": 142,
   "id": "3488c8a3",
   "metadata": {},
   "outputs": [],
   "source": [
    "users['country'] = users['Full_name']\n",
    "users.drop(columns='Full_name',inplace=True)"
   ]
  },
  {
   "cell_type": "markdown",
   "id": "d7c07e88",
   "metadata": {},
   "source": [
    "Проверим что у нас никакие данные не потерялись"
   ]
  },
  {
   "cell_type": "code",
   "execution_count": 143,
   "id": "57129943",
   "metadata": {},
   "outputs": [
    {
     "data": {
      "text/plain": [
       "(230341, 230341)"
      ]
     },
     "execution_count": 143,
     "metadata": {},
     "output_type": "execute_result"
    }
   ],
   "source": [
    "was, users.shape[0]"
   ]
  },
  {
   "cell_type": "markdown",
   "id": "9032e13c",
   "metadata": {},
   "source": [
    "Теперь, когда у нас данные в удобном формате, мы можем приступить к их форматированию."
   ]
  },
  {
   "cell_type": "markdown",
   "id": "70766db2",
   "metadata": {},
   "source": [
    "# Предобработка <a class=\"anchor\" id=\"3\"></a>"
   ]
  },
  {
   "cell_type": "markdown",
   "id": "2851a082",
   "metadata": {},
   "source": [
    "Начнем как раз с таблицы users"
   ]
  },
  {
   "cell_type": "markdown",
   "id": "44044bf1",
   "metadata": {},
   "source": [
    "## Users <a class=\"anchor\" id=\"3_1\"></a> "
   ]
  },
  {
   "cell_type": "code",
   "execution_count": 144,
   "id": "9ddc34f8",
   "metadata": {},
   "outputs": [
    {
     "data": {
      "text/html": [
       "<div>\n",
       "<style scoped>\n",
       "    .dataframe tbody tr th:only-of-type {\n",
       "        vertical-align: middle;\n",
       "    }\n",
       "\n",
       "    .dataframe tbody tr th {\n",
       "        vertical-align: top;\n",
       "    }\n",
       "\n",
       "    .dataframe thead th {\n",
       "        text-align: right;\n",
       "    }\n",
       "</style>\n",
       "<table border=\"1\" class=\"dataframe\">\n",
       "  <thead>\n",
       "    <tr style=\"text-align: right;\">\n",
       "      <th></th>\n",
       "      <th>user_id</th>\n",
       "      <th>age</th>\n",
       "      <th>gender</th>\n",
       "      <th>country</th>\n",
       "      <th>membership</th>\n",
       "    </tr>\n",
       "  </thead>\n",
       "  <tbody>\n",
       "    <tr>\n",
       "      <th>0</th>\n",
       "      <td>3034812</td>\n",
       "      <td>23</td>\n",
       "      <td>Male</td>\n",
       "      <td>United States</td>\n",
       "      <td>Premium</td>\n",
       "    </tr>\n",
       "    <tr>\n",
       "      <th>1</th>\n",
       "      <td>1376091</td>\n",
       "      <td>NaN</td>\n",
       "      <td>Unknown</td>\n",
       "      <td>United States</td>\n",
       "      <td>Premium</td>\n",
       "    </tr>\n",
       "    <tr>\n",
       "      <th>2</th>\n",
       "      <td>7170390</td>\n",
       "      <td>NaN</td>\n",
       "      <td>Female</td>\n",
       "      <td>United States</td>\n",
       "      <td>Premium</td>\n",
       "    </tr>\n",
       "    <tr>\n",
       "      <th>3</th>\n",
       "      <td>3061938</td>\n",
       "      <td>NaN</td>\n",
       "      <td>Female</td>\n",
       "      <td>United States</td>\n",
       "      <td>Premium</td>\n",
       "    </tr>\n",
       "    <tr>\n",
       "      <th>4</th>\n",
       "      <td>547325</td>\n",
       "      <td>NaN</td>\n",
       "      <td>Female</td>\n",
       "      <td>United States</td>\n",
       "      <td>Normal</td>\n",
       "    </tr>\n",
       "  </tbody>\n",
       "</table>\n",
       "</div>"
      ],
      "text/plain": [
       "   user_id  age   gender        country membership\n",
       "0  3034812   23     Male  United States    Premium\n",
       "1  1376091  NaN  Unknown  United States    Premium\n",
       "2  7170390  NaN   Female  United States    Premium\n",
       "3  3061938  NaN   Female  United States    Premium\n",
       "4   547325  NaN   Female  United States     Normal"
      ]
     },
     "execution_count": 144,
     "metadata": {},
     "output_type": "execute_result"
    }
   ],
   "source": [
    "users.head()"
   ]
  },
  {
   "cell_type": "markdown",
   "id": "12989244",
   "metadata": {},
   "source": [
    "Видно что в возрасте много пропуском, посмотрим какие типы у наших переменных"
   ]
  },
  {
   "cell_type": "code",
   "execution_count": 145,
   "id": "eaa56b50",
   "metadata": {},
   "outputs": [
    {
     "data": {
      "text/plain": [
       "user_id        int64\n",
       "age           object\n",
       "gender        object\n",
       "country       object\n",
       "membership    object\n",
       "dtype: object"
      ]
     },
     "execution_count": 145,
     "metadata": {},
     "output_type": "execute_result"
    }
   ],
   "source": [
    "users.dtypes"
   ]
  },
  {
   "cell_type": "markdown",
   "id": "946d3295",
   "metadata": {},
   "source": [
    "Возраст почему-то object, посмотрим какие там есть значения"
   ]
  },
  {
   "cell_type": "code",
   "execution_count": 146,
   "id": "4d699c91",
   "metadata": {},
   "outputs": [
    {
     "data": {
      "text/plain": [
       "--    19651\n",
       "37     2460\n",
       "22     2382\n",
       "43     2335\n",
       "64     2309\n",
       "40     2292\n",
       "67     2276\n",
       "26     2265\n",
       "61     2264\n",
       "30     2239\n",
       "Name: age, dtype: int64"
      ]
     },
     "execution_count": 146,
     "metadata": {},
     "output_type": "execute_result"
    }
   ],
   "source": [
    "users.age.value_counts().head(10)"
   ]
  },
  {
   "cell_type": "markdown",
   "id": "151f20ef",
   "metadata": {},
   "source": [
    "Понятно. Заменим все строки на медиану возраста, для начала посчитаем ее"
   ]
  },
  {
   "cell_type": "code",
   "execution_count": 147,
   "id": "07d15e26",
   "metadata": {},
   "outputs": [],
   "source": [
    "arr = [] # будем сюа добавлять все числовые значения\n",
    "for i in users.age.dropna().values:\n",
    "    try:\n",
    "        arr.append(int(i)) # пытаемся перевести значение в число\n",
    "    except: # если не получается пропускаем его\n",
    "        pass\n",
    "med = int(np.median(arr))"
   ]
  },
  {
   "cell_type": "markdown",
   "id": "9b253281",
   "metadata": {},
   "source": [
    "Теперь напишем функцию которая будет делать почти тоже самое, но если возникла ошибка она будет возвращать медиану. Так мы избавимся и от пропусков, и от строк"
   ]
  },
  {
   "cell_type": "code",
   "execution_count": 148,
   "id": "ed77fee5",
   "metadata": {},
   "outputs": [],
   "source": [
    "def check(x):\n",
    "    try:\n",
    "        return int(x)\n",
    "    except:\n",
    "        return med\n",
    "users['age'] = users.age.apply(check)"
   ]
  },
  {
   "cell_type": "markdown",
   "id": "2acb56ad",
   "metadata": {},
   "source": [
    "Проверим результат"
   ]
  },
  {
   "cell_type": "code",
   "execution_count": 149,
   "id": "9b7e961b",
   "metadata": {},
   "outputs": [
    {
     "data": {
      "text/plain": [
       "user_id       0\n",
       "age           0\n",
       "gender        0\n",
       "country       0\n",
       "membership    0\n",
       "dtype: int64"
      ]
     },
     "execution_count": 149,
     "metadata": {},
     "output_type": "execute_result"
    }
   ],
   "source": [
    "users.isna().sum()"
   ]
  },
  {
   "cell_type": "code",
   "execution_count": 150,
   "id": "06ebd129",
   "metadata": {},
   "outputs": [
    {
     "data": {
      "text/plain": [
       "user_id        int64\n",
       "age            int64\n",
       "gender        object\n",
       "country       object\n",
       "membership    object\n",
       "dtype: object"
      ]
     },
     "execution_count": 150,
     "metadata": {},
     "output_type": "execute_result"
    }
   ],
   "source": [
    "users.dtypes"
   ]
  },
  {
   "cell_type": "markdown",
   "id": "fa6aaba3",
   "metadata": {},
   "source": [
    "Прекрасно, все сработало <br>\n",
    "Перейдем к таблице products"
   ]
  },
  {
   "cell_type": "markdown",
   "id": "572efd51",
   "metadata": {},
   "source": [
    "## Products <a class=\"anchor\" id=\"3_2\"></a>"
   ]
  },
  {
   "cell_type": "markdown",
   "id": "67ee11fe",
   "metadata": {},
   "source": [
    "Действуем по той же схеме"
   ]
  },
  {
   "cell_type": "code",
   "execution_count": 151,
   "id": "078e9225",
   "metadata": {},
   "outputs": [
    {
     "data": {
      "text/plain": [
       "product_id         int64\n",
       "category_id        int64\n",
       "category_code     object\n",
       "brand             object\n",
       "price            float64\n",
       "dtype: object"
      ]
     },
     "execution_count": 151,
     "metadata": {},
     "output_type": "execute_result"
    }
   ],
   "source": [
    "products.dtypes"
   ]
  },
  {
   "cell_type": "markdown",
   "id": "e30115f8",
   "metadata": {},
   "source": [
    "Тут все нормально"
   ]
  },
  {
   "cell_type": "code",
   "execution_count": 152,
   "id": "80aaab8e",
   "metadata": {
    "scrolled": true
   },
   "outputs": [
    {
     "data": {
      "text/plain": [
       "product_id           0\n",
       "category_id          0\n",
       "category_code    18856\n",
       "brand            16486\n",
       "price                0\n",
       "dtype: int64"
      ]
     },
     "execution_count": 152,
     "metadata": {},
     "output_type": "execute_result"
    }
   ],
   "source": [
    "products.isna().sum()"
   ]
  },
  {
   "cell_type": "markdown",
   "id": "a04324af",
   "metadata": {},
   "source": [
    "Пропуски в брендах и категориях заменим на 'Unknown'"
   ]
  },
  {
   "cell_type": "code",
   "execution_count": 153,
   "id": "fc43adbc",
   "metadata": {},
   "outputs": [],
   "source": [
    "products.category_code.fillna('Unknown',inplace=True)\n",
    "products.brand.fillna('Unknown',inplace=True)"
   ]
  },
  {
   "cell_type": "code",
   "execution_count": 43,
   "id": "c6cd62ec",
   "metadata": {},
   "outputs": [
    {
     "data": {
      "text/html": [
       "<div>\n",
       "<style scoped>\n",
       "    .dataframe tbody tr th:only-of-type {\n",
       "        vertical-align: middle;\n",
       "    }\n",
       "\n",
       "    .dataframe tbody tr th {\n",
       "        vertical-align: top;\n",
       "    }\n",
       "\n",
       "    .dataframe thead th {\n",
       "        text-align: right;\n",
       "    }\n",
       "</style>\n",
       "<table border=\"1\" class=\"dataframe\">\n",
       "  <thead>\n",
       "    <tr style=\"text-align: right;\">\n",
       "      <th></th>\n",
       "      <th>product_id</th>\n",
       "      <th>category_id</th>\n",
       "      <th>category_code</th>\n",
       "      <th>brand</th>\n",
       "      <th>price</th>\n",
       "    </tr>\n",
       "  </thead>\n",
       "  <tbody>\n",
       "    <tr>\n",
       "      <th>0</th>\n",
       "      <td>1996170</td>\n",
       "      <td>8452715</td>\n",
       "      <td>electronics.telephone</td>\n",
       "      <td>Unknown</td>\n",
       "      <td>31.90</td>\n",
       "    </tr>\n",
       "    <tr>\n",
       "      <th>1</th>\n",
       "      <td>1785245</td>\n",
       "      <td>1480748</td>\n",
       "      <td>stationery.cartrige</td>\n",
       "      <td>canon</td>\n",
       "      <td>43.11</td>\n",
       "    </tr>\n",
       "    <tr>\n",
       "      <th>2</th>\n",
       "      <td>1443968</td>\n",
       "      <td>9479855</td>\n",
       "      <td>electronics.telephone</td>\n",
       "      <td>sirius</td>\n",
       "      <td>9.83</td>\n",
       "    </tr>\n",
       "    <tr>\n",
       "      <th>3</th>\n",
       "      <td>4079061</td>\n",
       "      <td>7789416</td>\n",
       "      <td>computers.components.videocards</td>\n",
       "      <td>powercolor</td>\n",
       "      <td>399.48</td>\n",
       "    </tr>\n",
       "    <tr>\n",
       "      <th>4</th>\n",
       "      <td>139905</td>\n",
       "      <td>2472027</td>\n",
       "      <td>computers.components.cooler</td>\n",
       "      <td>zalman</td>\n",
       "      <td>17.16</td>\n",
       "    </tr>\n",
       "  </tbody>\n",
       "</table>\n",
       "</div>"
      ],
      "text/plain": [
       "   product_id  category_id                    category_code       brand  \\\n",
       "0     1996170      8452715            electronics.telephone     Unknown   \n",
       "1     1785245      1480748              stationery.cartrige       canon   \n",
       "2     1443968      9479855            electronics.telephone      sirius   \n",
       "3     4079061      7789416  computers.components.videocards  powercolor   \n",
       "4      139905      2472027      computers.components.cooler      zalman   \n",
       "\n",
       "    price  \n",
       "0   31.90  \n",
       "1   43.11  \n",
       "2    9.83  \n",
       "3  399.48  \n",
       "4   17.16  "
      ]
     },
     "execution_count": 43,
     "metadata": {},
     "output_type": "execute_result"
    }
   ],
   "source": [
    "products.head()"
   ]
  },
  {
   "cell_type": "markdown",
   "id": "3183ccaf",
   "metadata": {},
   "source": [
    "Приведем колонку category_code в более удобный вид"
   ]
  },
  {
   "cell_type": "code",
   "execution_count": 154,
   "id": "158728fa",
   "metadata": {},
   "outputs": [],
   "source": [
    "products[['category_level_1','category_level_2', # разделим колонку по точкам на 4 отдельных колонки\n",
    "     'category_level_3','category_level_4']] = products.category_code.str.split('.',expand=True).add_prefix('category_level_') "
   ]
  },
  {
   "cell_type": "code",
   "execution_count": 155,
   "id": "89c41786",
   "metadata": {},
   "outputs": [],
   "source": [
    "products.drop(columns='category_code',inplace = True) # этот столбец нам не понадобится"
   ]
  },
  {
   "cell_type": "code",
   "execution_count": 156,
   "id": "489b5dc8",
   "metadata": {},
   "outputs": [
    {
     "data": {
      "text/plain": [
       "product_id              0\n",
       "category_id             0\n",
       "brand                   0\n",
       "price                   0\n",
       "category_level_1        0\n",
       "category_level_2    18856\n",
       "category_level_3    35057\n",
       "category_level_4    53417\n",
       "dtype: int64"
      ]
     },
     "execution_count": 156,
     "metadata": {},
     "output_type": "execute_result"
    }
   ],
   "source": [
    "products.isna().sum()"
   ]
  },
  {
   "cell_type": "markdown",
   "id": "1a10ee6a",
   "metadata": {},
   "source": [
    "Заменим получившиеся пропуски на 'Not'"
   ]
  },
  {
   "cell_type": "code",
   "execution_count": 158,
   "id": "0726f0a9",
   "metadata": {},
   "outputs": [],
   "source": [
    "products['category_level_2'].fillna('Not',inplace=True)\n",
    "products['category_level_3'].fillna('Not',inplace=True)\n",
    "products['category_level_4'].fillna('Not',inplace=True)"
   ]
  },
  {
   "cell_type": "code",
   "execution_count": 159,
   "id": "71733f7a",
   "metadata": {},
   "outputs": [
    {
     "data": {
      "text/plain": [
       "product_id          0\n",
       "category_id         0\n",
       "brand               0\n",
       "price               0\n",
       "category_level_1    0\n",
       "category_level_2    0\n",
       "category_level_3    0\n",
       "category_level_4    0\n",
       "dtype: int64"
      ]
     },
     "execution_count": 159,
     "metadata": {},
     "output_type": "execute_result"
    }
   ],
   "source": [
    "products.isna().sum()"
   ]
  },
  {
   "cell_type": "code",
   "execution_count": 51,
   "id": "19ef956d",
   "metadata": {},
   "outputs": [
    {
     "data": {
      "text/html": [
       "<div>\n",
       "<style scoped>\n",
       "    .dataframe tbody tr th:only-of-type {\n",
       "        vertical-align: middle;\n",
       "    }\n",
       "\n",
       "    .dataframe tbody tr th {\n",
       "        vertical-align: top;\n",
       "    }\n",
       "\n",
       "    .dataframe thead th {\n",
       "        text-align: right;\n",
       "    }\n",
       "</style>\n",
       "<table border=\"1\" class=\"dataframe\">\n",
       "  <thead>\n",
       "    <tr style=\"text-align: right;\">\n",
       "      <th></th>\n",
       "      <th>product_id</th>\n",
       "      <th>category_id</th>\n",
       "      <th>category_code</th>\n",
       "      <th>brand</th>\n",
       "      <th>price</th>\n",
       "      <th>category_level_1</th>\n",
       "      <th>category_level_2</th>\n",
       "      <th>category_level_3</th>\n",
       "      <th>category_level_4</th>\n",
       "    </tr>\n",
       "  </thead>\n",
       "  <tbody>\n",
       "    <tr>\n",
       "      <th>0</th>\n",
       "      <td>1996170</td>\n",
       "      <td>8452715</td>\n",
       "      <td>electronics.telephone</td>\n",
       "      <td>Unknown</td>\n",
       "      <td>31.90</td>\n",
       "      <td>electronics</td>\n",
       "      <td>telephone</td>\n",
       "      <td>Not</td>\n",
       "      <td>Not</td>\n",
       "    </tr>\n",
       "    <tr>\n",
       "      <th>1</th>\n",
       "      <td>1785245</td>\n",
       "      <td>1480748</td>\n",
       "      <td>stationery.cartrige</td>\n",
       "      <td>canon</td>\n",
       "      <td>43.11</td>\n",
       "      <td>stationery</td>\n",
       "      <td>cartrige</td>\n",
       "      <td>Not</td>\n",
       "      <td>Not</td>\n",
       "    </tr>\n",
       "    <tr>\n",
       "      <th>2</th>\n",
       "      <td>1443968</td>\n",
       "      <td>9479855</td>\n",
       "      <td>electronics.telephone</td>\n",
       "      <td>sirius</td>\n",
       "      <td>9.83</td>\n",
       "      <td>electronics</td>\n",
       "      <td>telephone</td>\n",
       "      <td>Not</td>\n",
       "      <td>Not</td>\n",
       "    </tr>\n",
       "    <tr>\n",
       "      <th>3</th>\n",
       "      <td>4079061</td>\n",
       "      <td>7789416</td>\n",
       "      <td>computers.components.videocards</td>\n",
       "      <td>powercolor</td>\n",
       "      <td>399.48</td>\n",
       "      <td>computers</td>\n",
       "      <td>components</td>\n",
       "      <td>videocards</td>\n",
       "      <td>Not</td>\n",
       "    </tr>\n",
       "    <tr>\n",
       "      <th>4</th>\n",
       "      <td>139905</td>\n",
       "      <td>2472027</td>\n",
       "      <td>computers.components.cooler</td>\n",
       "      <td>zalman</td>\n",
       "      <td>17.16</td>\n",
       "      <td>computers</td>\n",
       "      <td>components</td>\n",
       "      <td>cooler</td>\n",
       "      <td>Not</td>\n",
       "    </tr>\n",
       "  </tbody>\n",
       "</table>\n",
       "</div>"
      ],
      "text/plain": [
       "   product_id  category_id                    category_code       brand  \\\n",
       "0     1996170      8452715            electronics.telephone     Unknown   \n",
       "1     1785245      1480748              stationery.cartrige       canon   \n",
       "2     1443968      9479855            electronics.telephone      sirius   \n",
       "3     4079061      7789416  computers.components.videocards  powercolor   \n",
       "4      139905      2472027      computers.components.cooler      zalman   \n",
       "\n",
       "    price category_level_1 category_level_2 category_level_3 category_level_4  \n",
       "0   31.90      electronics        telephone              Not              Not  \n",
       "1   43.11       stationery         cartrige              Not              Not  \n",
       "2    9.83      electronics        telephone              Not              Not  \n",
       "3  399.48        computers       components       videocards              Not  \n",
       "4   17.16        computers       components           cooler              Not  "
      ]
     },
     "execution_count": 51,
     "metadata": {},
     "output_type": "execute_result"
    }
   ],
   "source": [
    "products.head()"
   ]
  },
  {
   "cell_type": "markdown",
   "id": "ad92f2fb",
   "metadata": {},
   "source": [
    "## User_actions <a class=\"anchor\" id=\"3_3\"></a>"
   ]
  },
  {
   "cell_type": "code",
   "execution_count": 160,
   "id": "1672dc96",
   "metadata": {},
   "outputs": [
    {
     "data": {
      "text/html": [
       "<div>\n",
       "<style scoped>\n",
       "    .dataframe tbody tr th:only-of-type {\n",
       "        vertical-align: middle;\n",
       "    }\n",
       "\n",
       "    .dataframe tbody tr th {\n",
       "        vertical-align: top;\n",
       "    }\n",
       "\n",
       "    .dataframe thead th {\n",
       "        text-align: right;\n",
       "    }\n",
       "</style>\n",
       "<table border=\"1\" class=\"dataframe\">\n",
       "  <thead>\n",
       "    <tr style=\"text-align: right;\">\n",
       "      <th></th>\n",
       "      <th>event_time</th>\n",
       "      <th>event_type</th>\n",
       "      <th>user_id</th>\n",
       "      <th>accessed_Ffom</th>\n",
       "      <th>order_id</th>\n",
       "    </tr>\n",
       "  </thead>\n",
       "  <tbody>\n",
       "    <tr>\n",
       "      <th>0</th>\n",
       "      <td>2020-09-24 11:57:06 UTC</td>\n",
       "      <td>view</td>\n",
       "      <td>3034812</td>\n",
       "      <td>Chrome</td>\n",
       "      <td>0</td>\n",
       "    </tr>\n",
       "    <tr>\n",
       "      <th>1</th>\n",
       "      <td>2020-10-23 05:30:06 UTC</td>\n",
       "      <td>view</td>\n",
       "      <td>3034812</td>\n",
       "      <td>Chrome</td>\n",
       "      <td>0</td>\n",
       "    </tr>\n",
       "    <tr>\n",
       "      <th>2</th>\n",
       "      <td>2020-12-12 16:13:11 UTC</td>\n",
       "      <td>cart</td>\n",
       "      <td>3034812</td>\n",
       "      <td>Chrome</td>\n",
       "      <td>0</td>\n",
       "    </tr>\n",
       "    <tr>\n",
       "      <th>3</th>\n",
       "      <td>2021-01-29 22:43:00 UTC</td>\n",
       "      <td>view</td>\n",
       "      <td>3034812</td>\n",
       "      <td>Chrome</td>\n",
       "      <td>0</td>\n",
       "    </tr>\n",
       "    <tr>\n",
       "      <th>4</th>\n",
       "      <td>2020-09-24 11:57:26 UTC</td>\n",
       "      <td>view</td>\n",
       "      <td>8870078</td>\n",
       "      <td>Chrome</td>\n",
       "      <td>0</td>\n",
       "    </tr>\n",
       "  </tbody>\n",
       "</table>\n",
       "</div>"
      ],
      "text/plain": [
       "                event_time event_type  user_id accessed_Ffom  order_id\n",
       "0  2020-09-24 11:57:06 UTC       view  3034812        Chrome         0\n",
       "1  2020-10-23 05:30:06 UTC       view  3034812        Chrome         0\n",
       "2  2020-12-12 16:13:11 UTC       cart  3034812        Chrome         0\n",
       "3  2021-01-29 22:43:00 UTC       view  3034812        Chrome         0\n",
       "4  2020-09-24 11:57:26 UTC       view  8870078        Chrome         0"
      ]
     },
     "execution_count": 160,
     "metadata": {},
     "output_type": "execute_result"
    }
   ],
   "source": [
    "user_actions.head()"
   ]
  },
  {
   "cell_type": "markdown",
   "id": "eaccd813",
   "metadata": {},
   "source": [
    "Сократим event_time просто до даты"
   ]
  },
  {
   "cell_type": "code",
   "execution_count": 161,
   "id": "794b5672",
   "metadata": {},
   "outputs": [],
   "source": [
    "user_actions.event_time=pd.to_datetime(df.event_time.apply(lambda x: x[:10]))"
   ]
  },
  {
   "cell_type": "code",
   "execution_count": 162,
   "id": "59211fa2",
   "metadata": {},
   "outputs": [
    {
     "data": {
      "text/plain": [
       "event_time       datetime64[ns]\n",
       "event_type               object\n",
       "user_id                   int64\n",
       "accessed_Ffom            object\n",
       "order_id                  int64\n",
       "dtype: object"
      ]
     },
     "execution_count": 162,
     "metadata": {},
     "output_type": "execute_result"
    }
   ],
   "source": [
    "user_actions.dtypes"
   ]
  },
  {
   "cell_type": "markdown",
   "id": "330de858",
   "metadata": {},
   "source": [
    "C типами данных все нормально"
   ]
  },
  {
   "cell_type": "code",
   "execution_count": 164,
   "id": "571e0cd9",
   "metadata": {
    "scrolled": true
   },
   "outputs": [
    {
     "data": {
      "text/html": [
       "<div>\n",
       "<style scoped>\n",
       "    .dataframe tbody tr th:only-of-type {\n",
       "        vertical-align: middle;\n",
       "    }\n",
       "\n",
       "    .dataframe tbody tr th {\n",
       "        vertical-align: top;\n",
       "    }\n",
       "\n",
       "    .dataframe thead th {\n",
       "        text-align: right;\n",
       "    }\n",
       "</style>\n",
       "<table border=\"1\" class=\"dataframe\">\n",
       "  <thead>\n",
       "    <tr style=\"text-align: right;\">\n",
       "      <th></th>\n",
       "      <th>event_time</th>\n",
       "      <th>event_type</th>\n",
       "      <th>user_id</th>\n",
       "      <th>accessed_Ffom</th>\n",
       "      <th>order_id</th>\n",
       "    </tr>\n",
       "  </thead>\n",
       "  <tbody>\n",
       "    <tr>\n",
       "      <th>0</th>\n",
       "      <td>2020-09-24</td>\n",
       "      <td>view</td>\n",
       "      <td>3034812</td>\n",
       "      <td>Chrome</td>\n",
       "      <td>0</td>\n",
       "    </tr>\n",
       "    <tr>\n",
       "      <th>1</th>\n",
       "      <td>2020-10-23</td>\n",
       "      <td>view</td>\n",
       "      <td>3034812</td>\n",
       "      <td>Chrome</td>\n",
       "      <td>0</td>\n",
       "    </tr>\n",
       "    <tr>\n",
       "      <th>2</th>\n",
       "      <td>2020-12-12</td>\n",
       "      <td>cart</td>\n",
       "      <td>3034812</td>\n",
       "      <td>Chrome</td>\n",
       "      <td>0</td>\n",
       "    </tr>\n",
       "    <tr>\n",
       "      <th>3</th>\n",
       "      <td>2021-01-29</td>\n",
       "      <td>view</td>\n",
       "      <td>3034812</td>\n",
       "      <td>Chrome</td>\n",
       "      <td>0</td>\n",
       "    </tr>\n",
       "    <tr>\n",
       "      <th>4</th>\n",
       "      <td>2020-09-24</td>\n",
       "      <td>view</td>\n",
       "      <td>8870078</td>\n",
       "      <td>Chrome</td>\n",
       "      <td>0</td>\n",
       "    </tr>\n",
       "  </tbody>\n",
       "</table>\n",
       "</div>"
      ],
      "text/plain": [
       "  event_time event_type  user_id accessed_Ffom  order_id\n",
       "0 2020-09-24       view  3034812        Chrome         0\n",
       "1 2020-10-23       view  3034812        Chrome         0\n",
       "2 2020-12-12       cart  3034812        Chrome         0\n",
       "3 2021-01-29       view  3034812        Chrome         0\n",
       "4 2020-09-24       view  8870078        Chrome         0"
      ]
     },
     "execution_count": 164,
     "metadata": {},
     "output_type": "execute_result"
    }
   ],
   "source": [
    "user_actions.head()"
   ]
  },
  {
   "cell_type": "markdown",
   "id": "daff3697",
   "metadata": {},
   "source": [
    "## Orders <a class=\"anchor\" id=\"3_4\"></a>"
   ]
  },
  {
   "cell_type": "code",
   "execution_count": 167,
   "id": "18448f58",
   "metadata": {},
   "outputs": [
    {
     "data": {
      "text/plain": [
       "order_id       int64\n",
       "product_id     int64\n",
       "pay_method    object\n",
       "returned      object\n",
       "dtype: object"
      ]
     },
     "execution_count": 167,
     "metadata": {},
     "output_type": "execute_result"
    }
   ],
   "source": [
    "orders.dtypes"
   ]
  },
  {
   "cell_type": "code",
   "execution_count": 168,
   "id": "2334377e",
   "metadata": {},
   "outputs": [
    {
     "data": {
      "text/plain": [
       "order_id      0\n",
       "product_id    0\n",
       "pay_method    0\n",
       "returned      0\n",
       "dtype: int64"
      ]
     },
     "execution_count": 168,
     "metadata": {},
     "output_type": "execute_result"
    }
   ],
   "source": [
    "orders.isna().sum()"
   ]
  },
  {
   "cell_type": "markdown",
   "id": "6676406b",
   "metadata": {},
   "source": [
    "Тут тоже все нормально, теперь перейдем к работе уже с кликхаусом"
   ]
  },
  {
   "cell_type": "markdown",
   "id": "7e5871ce",
   "metadata": {},
   "source": [
    "# Работа с БД <a class=\"anchor\" id=\"4\"></a>"
   ]
  },
  {
   "cell_type": "markdown",
   "id": "7f7c30b1",
   "metadata": {},
   "source": [
    "Подключаемся к бд с помощью clickhouse_connect, вводим параметры которые задавали изначально в докере"
   ]
  },
  {
   "cell_type": "code",
   "execution_count": 62,
   "id": "58220d5a",
   "metadata": {},
   "outputs": [],
   "source": [
    "client = clickhouse_connect.get_client(host='clickhouse-server', port='8123', user='igor', password= 'secret')"
   ]
  },
  {
   "cell_type": "markdown",
   "id": "44e3b028",
   "metadata": {},
   "source": [
    "Посмотрим проходят ли наши команды, создадим новую бд"
   ]
  },
  {
   "cell_type": "code",
   "execution_count": 63,
   "id": "5009216b",
   "metadata": {},
   "outputs": [
    {
     "data": {
      "text/plain": [
       "<clickhouse_connect.driver.summary.QuerySummary at 0x7fee8923e520>"
      ]
     },
     "execution_count": 63,
     "metadata": {},
     "output_type": "execute_result"
    }
   ],
   "source": [
    "database = 'CREATE DATABASE IF NOT EXISTS my_db'\n",
    "client.command(database)"
   ]
  },
  {
   "cell_type": "markdown",
   "id": "43267a18",
   "metadata": {},
   "source": [
    "Отлично, работает. Создадим нашу первую таблицу"
   ]
  },
  {
   "cell_type": "code",
   "execution_count": 176,
   "id": "9b6d9287",
   "metadata": {},
   "outputs": [
    {
     "data": {
      "text/html": [
       "<div>\n",
       "<style scoped>\n",
       "    .dataframe tbody tr th:only-of-type {\n",
       "        vertical-align: middle;\n",
       "    }\n",
       "\n",
       "    .dataframe tbody tr th {\n",
       "        vertical-align: top;\n",
       "    }\n",
       "\n",
       "    .dataframe thead th {\n",
       "        text-align: right;\n",
       "    }\n",
       "</style>\n",
       "<table border=\"1\" class=\"dataframe\">\n",
       "  <thead>\n",
       "    <tr style=\"text-align: right;\">\n",
       "      <th></th>\n",
       "      <th>user_id</th>\n",
       "      <th>age</th>\n",
       "      <th>gender</th>\n",
       "      <th>country</th>\n",
       "      <th>membership</th>\n",
       "    </tr>\n",
       "  </thead>\n",
       "  <tbody>\n",
       "    <tr>\n",
       "      <th>0</th>\n",
       "      <td>3034812</td>\n",
       "      <td>23</td>\n",
       "      <td>Male</td>\n",
       "      <td>United States</td>\n",
       "      <td>Premium</td>\n",
       "    </tr>\n",
       "    <tr>\n",
       "      <th>1</th>\n",
       "      <td>1376091</td>\n",
       "      <td>43</td>\n",
       "      <td>Unknown</td>\n",
       "      <td>United States</td>\n",
       "      <td>Premium</td>\n",
       "    </tr>\n",
       "    <tr>\n",
       "      <th>2</th>\n",
       "      <td>7170390</td>\n",
       "      <td>43</td>\n",
       "      <td>Female</td>\n",
       "      <td>United States</td>\n",
       "      <td>Premium</td>\n",
       "    </tr>\n",
       "    <tr>\n",
       "      <th>3</th>\n",
       "      <td>3061938</td>\n",
       "      <td>43</td>\n",
       "      <td>Female</td>\n",
       "      <td>United States</td>\n",
       "      <td>Premium</td>\n",
       "    </tr>\n",
       "    <tr>\n",
       "      <th>4</th>\n",
       "      <td>547325</td>\n",
       "      <td>43</td>\n",
       "      <td>Female</td>\n",
       "      <td>United States</td>\n",
       "      <td>Normal</td>\n",
       "    </tr>\n",
       "  </tbody>\n",
       "</table>\n",
       "</div>"
      ],
      "text/plain": [
       "   user_id  age   gender        country membership\n",
       "0  3034812   23     Male  United States    Premium\n",
       "1  1376091   43  Unknown  United States    Premium\n",
       "2  7170390   43   Female  United States    Premium\n",
       "3  3061938   43   Female  United States    Premium\n",
       "4   547325   43   Female  United States     Normal"
      ]
     },
     "execution_count": 176,
     "metadata": {},
     "output_type": "execute_result"
    }
   ],
   "source": [
    "users.head()"
   ]
  },
  {
   "cell_type": "code",
   "execution_count": 64,
   "id": "9a83f598",
   "metadata": {},
   "outputs": [],
   "source": [
    "client.command('DROP TABLE IF EXISTS my_db.users')\n",
    "create_table_sql = '''\n",
    "CREATE TABLE my_db.users (\n",
    "user_id BIGINT,\n",
    "age BIGINT, \n",
    "gender String, \n",
    "country String, \n",
    "membership String\n",
    ") ENGINE = MergeTree()\n",
    "ORDER BY (user_id)\n",
    "'''"
   ]
  },
  {
   "cell_type": "code",
   "execution_count": 66,
   "id": "56fccd2a",
   "metadata": {},
   "outputs": [
    {
     "data": {
      "text/plain": [
       "<clickhouse_connect.driver.summary.QuerySummary at 0x7feec12c76a0>"
      ]
     },
     "execution_count": 66,
     "metadata": {},
     "output_type": "execute_result"
    }
   ],
   "source": [
    "client.command(create_table_sql)\n",
    "client.insert_df('my_db.users',users)"
   ]
  },
  {
   "cell_type": "markdown",
   "id": "9ddb5172",
   "metadata": {},
   "source": [
    "Проверим, проходят ли на запросы"
   ]
  },
  {
   "cell_type": "code",
   "execution_count": 67,
   "id": "35c93783",
   "metadata": {},
   "outputs": [
    {
     "data": {
      "text/html": [
       "<div>\n",
       "<style scoped>\n",
       "    .dataframe tbody tr th:only-of-type {\n",
       "        vertical-align: middle;\n",
       "    }\n",
       "\n",
       "    .dataframe tbody tr th {\n",
       "        vertical-align: top;\n",
       "    }\n",
       "\n",
       "    .dataframe thead th {\n",
       "        text-align: right;\n",
       "    }\n",
       "</style>\n",
       "<table border=\"1\" class=\"dataframe\">\n",
       "  <thead>\n",
       "    <tr style=\"text-align: right;\">\n",
       "      <th></th>\n",
       "      <th>user_id</th>\n",
       "      <th>age</th>\n",
       "      <th>gender</th>\n",
       "      <th>country</th>\n",
       "      <th>membership</th>\n",
       "    </tr>\n",
       "  </thead>\n",
       "  <tbody>\n",
       "    <tr>\n",
       "      <th>0</th>\n",
       "      <td>4</td>\n",
       "      <td>0</td>\n",
       "      <td>Female</td>\n",
       "      <td>United States</td>\n",
       "      <td>Premium</td>\n",
       "    </tr>\n",
       "    <tr>\n",
       "      <th>1</th>\n",
       "      <td>24</td>\n",
       "      <td>22</td>\n",
       "      <td>Female</td>\n",
       "      <td>Russian Federation</td>\n",
       "      <td>Premium</td>\n",
       "    </tr>\n",
       "    <tr>\n",
       "      <th>2</th>\n",
       "      <td>42</td>\n",
       "      <td>65</td>\n",
       "      <td>Male</td>\n",
       "      <td>Italy</td>\n",
       "      <td>Premium</td>\n",
       "    </tr>\n",
       "    <tr>\n",
       "      <th>3</th>\n",
       "      <td>155</td>\n",
       "      <td>0</td>\n",
       "      <td>Female</td>\n",
       "      <td>Italy</td>\n",
       "      <td>Premium</td>\n",
       "    </tr>\n",
       "    <tr>\n",
       "      <th>4</th>\n",
       "      <td>166</td>\n",
       "      <td>43</td>\n",
       "      <td>Female</td>\n",
       "      <td>Italy</td>\n",
       "      <td>Premium</td>\n",
       "    </tr>\n",
       "    <tr>\n",
       "      <th>...</th>\n",
       "      <td>...</td>\n",
       "      <td>...</td>\n",
       "      <td>...</td>\n",
       "      <td>...</td>\n",
       "      <td>...</td>\n",
       "    </tr>\n",
       "    <tr>\n",
       "      <th>230336</th>\n",
       "      <td>9999868</td>\n",
       "      <td>0</td>\n",
       "      <td>Female</td>\n",
       "      <td>Italy</td>\n",
       "      <td>Premium</td>\n",
       "    </tr>\n",
       "    <tr>\n",
       "      <th>230337</th>\n",
       "      <td>9999869</td>\n",
       "      <td>45</td>\n",
       "      <td>Male</td>\n",
       "      <td>Italy</td>\n",
       "      <td>Premium</td>\n",
       "    </tr>\n",
       "    <tr>\n",
       "      <th>230338</th>\n",
       "      <td>9999913</td>\n",
       "      <td>26</td>\n",
       "      <td>Female</td>\n",
       "      <td>Switzerland</td>\n",
       "      <td>Normal</td>\n",
       "    </tr>\n",
       "    <tr>\n",
       "      <th>230339</th>\n",
       "      <td>9999924</td>\n",
       "      <td>64</td>\n",
       "      <td>Female</td>\n",
       "      <td>Italy</td>\n",
       "      <td>Normal</td>\n",
       "    </tr>\n",
       "    <tr>\n",
       "      <th>230340</th>\n",
       "      <td>9999940</td>\n",
       "      <td>22</td>\n",
       "      <td>Male</td>\n",
       "      <td>Norway</td>\n",
       "      <td>Premium</td>\n",
       "    </tr>\n",
       "  </tbody>\n",
       "</table>\n",
       "<p>230341 rows × 5 columns</p>\n",
       "</div>"
      ],
      "text/plain": [
       "        user_id  age  gender             country membership\n",
       "0             4    0  Female       United States    Premium\n",
       "1            24   22  Female  Russian Federation    Premium\n",
       "2            42   65    Male               Italy    Premium\n",
       "3           155    0  Female               Italy    Premium\n",
       "4           166   43  Female               Italy    Premium\n",
       "...         ...  ...     ...                 ...        ...\n",
       "230336  9999868    0  Female               Italy    Premium\n",
       "230337  9999869   45    Male               Italy    Premium\n",
       "230338  9999913   26  Female         Switzerland     Normal\n",
       "230339  9999924   64  Female               Italy     Normal\n",
       "230340  9999940   22    Male              Norway    Premium\n",
       "\n",
       "[230341 rows x 5 columns]"
      ]
     },
     "execution_count": 67,
     "metadata": {},
     "output_type": "execute_result"
    }
   ],
   "source": [
    "result_df = client.query_df('SELECT * FROM my_db.users')\n",
    "result_df"
   ]
  },
  {
   "cell_type": "markdown",
   "id": "f32b01fe",
   "metadata": {},
   "source": [
    "Прекрасно, аналогично вставляем остальные таблицы"
   ]
  },
  {
   "cell_type": "code",
   "execution_count": 68,
   "id": "8c523eee",
   "metadata": {},
   "outputs": [
    {
     "data": {
      "text/html": [
       "<div>\n",
       "<style scoped>\n",
       "    .dataframe tbody tr th:only-of-type {\n",
       "        vertical-align: middle;\n",
       "    }\n",
       "\n",
       "    .dataframe tbody tr th {\n",
       "        vertical-align: top;\n",
       "    }\n",
       "\n",
       "    .dataframe thead th {\n",
       "        text-align: right;\n",
       "    }\n",
       "</style>\n",
       "<table border=\"1\" class=\"dataframe\">\n",
       "  <thead>\n",
       "    <tr style=\"text-align: right;\">\n",
       "      <th></th>\n",
       "      <th>order_id</th>\n",
       "      <th>product_id</th>\n",
       "      <th>pay_method</th>\n",
       "      <th>returned</th>\n",
       "    </tr>\n",
       "  </thead>\n",
       "  <tbody>\n",
       "    <tr>\n",
       "      <th>46</th>\n",
       "      <td>1070</td>\n",
       "      <td>1821557</td>\n",
       "      <td>Credit Card</td>\n",
       "      <td>No</td>\n",
       "    </tr>\n",
       "    <tr>\n",
       "      <th>48</th>\n",
       "      <td>1241</td>\n",
       "      <td>3738555</td>\n",
       "      <td>Credit Card</td>\n",
       "      <td>No</td>\n",
       "    </tr>\n",
       "    <tr>\n",
       "      <th>56</th>\n",
       "      <td>1438</td>\n",
       "      <td>1715916</td>\n",
       "      <td>Cash</td>\n",
       "      <td>No</td>\n",
       "    </tr>\n",
       "    <tr>\n",
       "      <th>58</th>\n",
       "      <td>1601</td>\n",
       "      <td>1745899</td>\n",
       "      <td>Debit Card</td>\n",
       "      <td>No</td>\n",
       "    </tr>\n",
       "    <tr>\n",
       "      <th>155</th>\n",
       "      <td>1751</td>\n",
       "      <td>809948</td>\n",
       "      <td>Others</td>\n",
       "      <td>No</td>\n",
       "    </tr>\n",
       "  </tbody>\n",
       "</table>\n",
       "</div>"
      ],
      "text/plain": [
       "     order_id  product_id   pay_method returned\n",
       "46       1070     1821557  Credit Card       No\n",
       "48       1241     3738555  Credit Card       No\n",
       "56       1438     1715916         Cash       No\n",
       "58       1601     1745899   Debit Card       No\n",
       "155      1751      809948       Others       No"
      ]
     },
     "execution_count": 68,
     "metadata": {},
     "output_type": "execute_result"
    }
   ],
   "source": [
    "orders.head()"
   ]
  },
  {
   "cell_type": "code",
   "execution_count": 69,
   "id": "2763b595",
   "metadata": {},
   "outputs": [],
   "source": [
    "client.command('DROP TABLE IF EXISTS my_db.orders')\n",
    "create_table_sql = '''\n",
    "CREATE TABLE my_db.orders (\n",
    "order_id BIGINT, \n",
    "product_id BIGINT,\n",
    "pay_method String, \n",
    "returned String\n",
    ") ENGINE = MergeTree()\n",
    "ORDER BY (order_id)\n",
    "'''"
   ]
  },
  {
   "cell_type": "code",
   "execution_count": 70,
   "id": "97007096",
   "metadata": {},
   "outputs": [
    {
     "data": {
      "text/plain": [
       "<clickhouse_connect.driver.summary.QuerySummary at 0x7feec12c2490>"
      ]
     },
     "execution_count": 70,
     "metadata": {},
     "output_type": "execute_result"
    }
   ],
   "source": [
    "client.command(create_table_sql)\n",
    "client.insert_df('my_db.orders',orders)"
   ]
  },
  {
   "cell_type": "code",
   "execution_count": 71,
   "id": "8ddd11ae",
   "metadata": {},
   "outputs": [
    {
     "data": {
      "text/html": [
       "<div>\n",
       "<style scoped>\n",
       "    .dataframe tbody tr th:only-of-type {\n",
       "        vertical-align: middle;\n",
       "    }\n",
       "\n",
       "    .dataframe tbody tr th {\n",
       "        vertical-align: top;\n",
       "    }\n",
       "\n",
       "    .dataframe thead th {\n",
       "        text-align: right;\n",
       "    }\n",
       "</style>\n",
       "<table border=\"1\" class=\"dataframe\">\n",
       "  <thead>\n",
       "    <tr style=\"text-align: right;\">\n",
       "      <th></th>\n",
       "      <th>event_time</th>\n",
       "      <th>event_type</th>\n",
       "      <th>user_id</th>\n",
       "      <th>accessed_Ffom</th>\n",
       "      <th>order_id</th>\n",
       "    </tr>\n",
       "  </thead>\n",
       "  <tbody>\n",
       "    <tr>\n",
       "      <th>0</th>\n",
       "      <td>2020-09-24</td>\n",
       "      <td>view</td>\n",
       "      <td>3034812</td>\n",
       "      <td>Chrome</td>\n",
       "      <td>0</td>\n",
       "    </tr>\n",
       "    <tr>\n",
       "      <th>1</th>\n",
       "      <td>2020-10-23</td>\n",
       "      <td>view</td>\n",
       "      <td>3034812</td>\n",
       "      <td>Chrome</td>\n",
       "      <td>0</td>\n",
       "    </tr>\n",
       "    <tr>\n",
       "      <th>2</th>\n",
       "      <td>2020-12-12</td>\n",
       "      <td>cart</td>\n",
       "      <td>3034812</td>\n",
       "      <td>Chrome</td>\n",
       "      <td>0</td>\n",
       "    </tr>\n",
       "    <tr>\n",
       "      <th>3</th>\n",
       "      <td>2021-01-29</td>\n",
       "      <td>view</td>\n",
       "      <td>3034812</td>\n",
       "      <td>Chrome</td>\n",
       "      <td>0</td>\n",
       "    </tr>\n",
       "    <tr>\n",
       "      <th>4</th>\n",
       "      <td>2020-09-24</td>\n",
       "      <td>view</td>\n",
       "      <td>8870078</td>\n",
       "      <td>Chrome</td>\n",
       "      <td>0</td>\n",
       "    </tr>\n",
       "  </tbody>\n",
       "</table>\n",
       "</div>"
      ],
      "text/plain": [
       "  event_time event_type  user_id accessed_Ffom  order_id\n",
       "0 2020-09-24       view  3034812        Chrome         0\n",
       "1 2020-10-23       view  3034812        Chrome         0\n",
       "2 2020-12-12       cart  3034812        Chrome         0\n",
       "3 2021-01-29       view  3034812        Chrome         0\n",
       "4 2020-09-24       view  8870078        Chrome         0"
      ]
     },
     "execution_count": 71,
     "metadata": {},
     "output_type": "execute_result"
    }
   ],
   "source": [
    "user_actions.head()"
   ]
  },
  {
   "cell_type": "code",
   "execution_count": 72,
   "id": "9ee974b7",
   "metadata": {},
   "outputs": [],
   "source": [
    "client.command('DROP TABLE IF EXISTS my_db.user_actions')\n",
    "create_table_sql = '''\n",
    "CREATE TABLE my_db.logs (\n",
    "event_time DATETIME,\n",
    "event_type String,\n",
    "user_id BIGINT,\n",
    "accessed_Ffom String,\n",
    "order_id BIGINT\n",
    ") ENGINE = MergeTree()\n",
    "ORDER BY (event_time)\n",
    "'''"
   ]
  },
  {
   "cell_type": "code",
   "execution_count": 73,
   "id": "0e490b79",
   "metadata": {},
   "outputs": [
    {
     "data": {
      "text/plain": [
       "<clickhouse_connect.driver.summary.QuerySummary at 0x7feec12cc220>"
      ]
     },
     "execution_count": 73,
     "metadata": {},
     "output_type": "execute_result"
    }
   ],
   "source": [
    "client.command(create_table_sql)\n",
    "client.insert_df('my_db.user_actions',user_actions)"
   ]
  },
  {
   "cell_type": "code",
   "execution_count": 82,
   "id": "f0e9806c",
   "metadata": {},
   "outputs": [],
   "source": [
    "client.command('DROP TABLE IF EXISTS my_db.products')\n",
    "create_table_sql = '''\n",
    "CREATE TABLE my_db.products (\n",
    "product_id Int64,\n",
    "category_id Int64, \n",
    "brand String,\n",
    "price Float32,\n",
    "category_level_1 String,\n",
    "category_level_2 String,\n",
    "category_level_3 String,\n",
    "category_level_4 String\n",
    ") ENGINE = MergeTree()\n",
    "ORDER BY (product_id)\n",
    "'''"
   ]
  },
  {
   "cell_type": "code",
   "execution_count": 83,
   "id": "78bfd89b",
   "metadata": {},
   "outputs": [
    {
     "data": {
      "text/plain": [
       "<clickhouse_connect.driver.summary.QuerySummary at 0x7fee7432c2b0>"
      ]
     },
     "execution_count": 83,
     "metadata": {},
     "output_type": "execute_result"
    }
   ],
   "source": [
    "client.command(create_table_sql)\n",
    "client.insert_df('my_db.products',products)"
   ]
  },
  {
   "cell_type": "code",
   "execution_count": 102,
   "id": "bad13dc0",
   "metadata": {},
   "outputs": [
    {
     "data": {
      "text/html": [
       "<div>\n",
       "<style scoped>\n",
       "    .dataframe tbody tr th:only-of-type {\n",
       "        vertical-align: middle;\n",
       "    }\n",
       "\n",
       "    .dataframe tbody tr th {\n",
       "        vertical-align: top;\n",
       "    }\n",
       "\n",
       "    .dataframe thead th {\n",
       "        text-align: right;\n",
       "    }\n",
       "</style>\n",
       "<table border=\"1\" class=\"dataframe\">\n",
       "  <thead>\n",
       "    <tr style=\"text-align: right;\">\n",
       "      <th></th>\n",
       "      <th>order_id</th>\n",
       "      <th>product_id</th>\n",
       "      <th>pay_method</th>\n",
       "      <th>returned</th>\n",
       "    </tr>\n",
       "  </thead>\n",
       "  <tbody>\n",
       "    <tr>\n",
       "      <th>46</th>\n",
       "      <td>1070</td>\n",
       "      <td>1821557</td>\n",
       "      <td>Credit Card</td>\n",
       "      <td>No</td>\n",
       "    </tr>\n",
       "    <tr>\n",
       "      <th>48</th>\n",
       "      <td>1241</td>\n",
       "      <td>3738555</td>\n",
       "      <td>Credit Card</td>\n",
       "      <td>No</td>\n",
       "    </tr>\n",
       "    <tr>\n",
       "      <th>56</th>\n",
       "      <td>1438</td>\n",
       "      <td>1715916</td>\n",
       "      <td>Cash</td>\n",
       "      <td>No</td>\n",
       "    </tr>\n",
       "    <tr>\n",
       "      <th>58</th>\n",
       "      <td>1601</td>\n",
       "      <td>1745899</td>\n",
       "      <td>Debit Card</td>\n",
       "      <td>No</td>\n",
       "    </tr>\n",
       "    <tr>\n",
       "      <th>155</th>\n",
       "      <td>1751</td>\n",
       "      <td>809948</td>\n",
       "      <td>Others</td>\n",
       "      <td>No</td>\n",
       "    </tr>\n",
       "  </tbody>\n",
       "</table>\n",
       "</div>"
      ],
      "text/plain": [
       "     order_id  product_id   pay_method returned\n",
       "46       1070     1821557  Credit Card       No\n",
       "48       1241     3738555  Credit Card       No\n",
       "56       1438     1715916         Cash       No\n",
       "58       1601     1745899   Debit Card       No\n",
       "155      1751      809948       Others       No"
      ]
     },
     "execution_count": 102,
     "metadata": {},
     "output_type": "execute_result"
    }
   ],
   "source": [
    "orders.head()"
   ]
  },
  {
   "cell_type": "markdown",
   "id": "c9c1e99c",
   "metadata": {},
   "source": [
    "Сделаем запрос, чтобы проверить как рабают связи между таблицами"
   ]
  },
  {
   "cell_type": "code",
   "execution_count": 115,
   "id": "c3069464",
   "metadata": {},
   "outputs": [],
   "source": [
    "query = '''\n",
    "SELECT event_time::date as date, COUNT(order_id) FILTER (WHERE returned='No') as orders\n",
    "FROM my_db.logs JOIN my_db.orders \n",
    "USING(order_id)\n",
    "GROUP BY event_time::date\n",
    "'''"
   ]
  },
  {
   "cell_type": "code",
   "execution_count": 116,
   "id": "0dd29f58",
   "metadata": {},
   "outputs": [
    {
     "data": {
      "text/html": [
       "<div>\n",
       "<style scoped>\n",
       "    .dataframe tbody tr th:only-of-type {\n",
       "        vertical-align: middle;\n",
       "    }\n",
       "\n",
       "    .dataframe tbody tr th {\n",
       "        vertical-align: top;\n",
       "    }\n",
       "\n",
       "    .dataframe thead th {\n",
       "        text-align: right;\n",
       "    }\n",
       "</style>\n",
       "<table border=\"1\" class=\"dataframe\">\n",
       "  <thead>\n",
       "    <tr style=\"text-align: right;\">\n",
       "      <th></th>\n",
       "      <th>date</th>\n",
       "      <th>orders</th>\n",
       "    </tr>\n",
       "  </thead>\n",
       "  <tbody>\n",
       "    <tr>\n",
       "      <th>0</th>\n",
       "      <td>2020-09-24</td>\n",
       "      <td>81</td>\n",
       "    </tr>\n",
       "    <tr>\n",
       "      <th>1</th>\n",
       "      <td>2020-09-25</td>\n",
       "      <td>149</td>\n",
       "    </tr>\n",
       "    <tr>\n",
       "      <th>2</th>\n",
       "      <td>2020-09-26</td>\n",
       "      <td>123</td>\n",
       "    </tr>\n",
       "    <tr>\n",
       "      <th>3</th>\n",
       "      <td>2020-09-27</td>\n",
       "      <td>111</td>\n",
       "    </tr>\n",
       "    <tr>\n",
       "      <th>4</th>\n",
       "      <td>2020-09-28</td>\n",
       "      <td>189</td>\n",
       "    </tr>\n",
       "  </tbody>\n",
       "</table>\n",
       "</div>"
      ],
      "text/plain": [
       "        date  orders\n",
       "0 2020-09-24      81\n",
       "1 2020-09-25     149\n",
       "2 2020-09-26     123\n",
       "3 2020-09-27     111\n",
       "4 2020-09-28     189"
      ]
     },
     "execution_count": 116,
     "metadata": {},
     "output_type": "execute_result"
    }
   ],
   "source": [
    "result_df = client.query_df(query)\n",
    "result_df.head()"
   ]
  },
  {
   "cell_type": "markdown",
   "id": "f6ebcc18",
   "metadata": {},
   "source": [
    "Работает"
   ]
  },
  {
   "cell_type": "markdown",
   "id": "68887520",
   "metadata": {},
   "source": [
    "# Datalens <a class=\"anchor\" id=\"5\"></a>"
   ]
  },
  {
   "cell_type": "markdown",
   "id": "65b93d4c",
   "metadata": {},
   "source": [
    "## Настройка окружения <a class=\"anchor\" id=\"5_1\"></a>"
   ]
  },
  {
   "cell_type": "markdown",
   "id": "4e32ebc1",
   "metadata": {},
   "source": [
    "Теперя запустим сам Datalens, для нужно будет поднять уже его docker compose с помощью следующих команд\n",
    "\n",
    "```docker \n",
    "cd datalens | спускаемся в папку даталенса\n",
    "docker compose up -d | запускаем файл в пассивном режиме\n",
    "```\n",
    "\n",
    "\n"
   ]
  },
  {
   "cell_type": "markdown",
   "id": "79dad20b",
   "metadata": {},
   "source": [
    "Теперь по этому адресу http://localhost:8080 у нас должен открыться даталенс, сейча это и проверим"
   ]
  },
  {
   "cell_type": "markdown",
   "id": "68a09aea",
   "metadata": {},
   "source": [
    "<img src=\"screens/workbook.png\" width=1000 />"
   ]
  },
  {
   "cell_type": "markdown",
   "id": "b537503a",
   "metadata": {},
   "source": [
    "Все хорошо, проверим как работает наше подключение к кликхаусу"
   ]
  },
  {
   "cell_type": "markdown",
   "id": "6dd027fd",
   "metadata": {},
   "source": [
    "<img src=\"screens/connect.png\" width=500 />"
   ]
  },
  {
   "cell_type": "markdown",
   "id": "ece80efd",
   "metadata": {},
   "source": [
    "Теперь создадим датасет, где свяжем все наши таблицы"
   ]
  },
  {
   "cell_type": "markdown",
   "id": "dcf96dd4",
   "metadata": {},
   "source": [
    "<img src=\"screens/dataset.png\" width=1000 />"
   ]
  },
  {
   "cell_type": "markdown",
   "id": "26e58b67",
   "metadata": {},
   "source": [
    "Попробуем построить первый чарт"
   ]
  },
  {
   "cell_type": "markdown",
   "id": "1c1bc816",
   "metadata": {},
   "source": [
    "<img src=\"screens/chart.png\" width=1000 />"
   ]
  },
  {
   "cell_type": "markdown",
   "id": "675925d3",
   "metadata": {},
   "source": [
    "Теперь, когда настройка закончена, можно переходить непосредственно к построению дашборда"
   ]
  },
  {
   "cell_type": "markdown",
   "id": "02fdfa28",
   "metadata": {},
   "source": [
    "## Дашборд <a class=\"anchor\" id=\"5_2\"></a>"
   ]
  },
  {
   "cell_type": "markdown",
   "id": "3ba67d11",
   "metadata": {},
   "source": [
    "Целью дашборда была визуализация основных показателей магазина <br>\n",
    "В качестве ключевых метрик было решено выбрать: \n",
    "- общая выручка и по сегментам пользователей\n",
    "- процент клиентов разного статуса и их количество по дням\n",
    "- количество заказов\n",
    "- средний чек\n",
    "- обьем выручки по источникам трафика\n",
    "- процент конверсии и его динамика\n",
    "- процент возвратов и его динамика\n",
    "- показатели выручки и количества заказов для каждой категории и бренда\n"
   ]
  },
  {
   "cell_type": "markdown",
   "id": "0779c3e4",
   "metadata": {},
   "source": [
    "Итоговый результат можно посмотреть по [ссылке](https://datalens.yandex/kh78hvzugxxw8)"
   ]
  }
 ],
 "metadata": {
  "kernelspec": {
   "display_name": "Python 3 (ipykernel)",
   "language": "python",
   "name": "python3"
  },
  "language_info": {
   "codemirror_mode": {
    "name": "ipython",
    "version": 3
   },
   "file_extension": ".py",
   "mimetype": "text/x-python",
   "name": "python",
   "nbconvert_exporter": "python",
   "pygments_lexer": "ipython3",
   "version": "3.9.18"
  }
 },
 "nbformat": 4,
 "nbformat_minor": 5
}
