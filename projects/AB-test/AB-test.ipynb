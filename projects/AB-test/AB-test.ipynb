{
 "cells": [
  {
   "cell_type": "markdown",
   "id": "8ac7a265",
   "metadata": {},
   "source": [
    "# Введение"
   ]
  },
  {
   "cell_type": "markdown",
   "id": "f10b21db",
   "metadata": {},
   "source": [
    "Мы работаем в сервисе доставке еды. Наша команда разработала новую программу лояльности и хочет проверить лучше ли она старой. В качестве метода проверки был выбран АБ-тест. <br>\n",
    "\n",
    "### Цель работы <br>\n",
    "Спроектировать дизайн этого теста: сформулировать гипотезы, корректно разбить пользоваетлей на группы, <br> \n",
    "определить достаточный размер выборок, необходимые статистические методы, а также проверить корректность работы этого всего на синтетических тестах"
   ]
  },
  {
   "cell_type": "markdown",
   "id": "0d5a8d74",
   "metadata": {},
   "source": [
    "## Содержание:\n",
    "1. [Подготовка](#1)\n",
    "    1. [Выбор метрики](#1_1)\n",
    "    1. [Формулировка гипотезы](#1_2)\n",
    "    1. [Выгрузка данных](#1_3)\n",
    "1. [Дизайн теста](#2)\n",
    "    1. [Система сплитования](#2_1)\n",
    "    1. [Размер выборки](#2_2)\n",
    "    1. [АА-тест](#2_3)\n",
    "    1. [АБ-тест](#2_4)\n",
    "    1. [Cuped](#2_5)\n",
    "1. [Итоги](#3)\n"
   ]
  },
  {
   "cell_type": "markdown",
   "id": "aa0500f6",
   "metadata": {},
   "source": [
    "# 1. Подготовка эксперимента <a class=\"anchor\" id=\"1\"></a>"
   ]
  },
  {
   "cell_type": "markdown",
   "id": "26315896",
   "metadata": {},
   "source": [
    "## Выбор метрики <a class=\"anchor\" id=\"1_1\"></a>"
   ]
  },
  {
   "cell_type": "markdown",
   "id": "82a762a7",
   "metadata": {},
   "source": [
    "В качестве целевой метрики был выбран средний чек, так как логично предположить, что программа лояльности на него напрямую влияет <br>\n",
    "\n",
    "Также во время эксперимента важно мониторить показатели дополнительных метрик, для нас, например, это может быть среднее количество заказов в день, так как нам также важно чтобы это метрика сильно не проседала"
   ]
  },
  {
   "cell_type": "markdown",
   "id": "438fbf25",
   "metadata": {},
   "source": [
    "## Формулировка гипотезы <a class=\"anchor\" id=\"1_2\"></a>"
   ]
  },
  {
   "cell_type": "markdown",
   "id": "de371aee",
   "metadata": {},
   "source": [
    "При зафиксированном минимальном эффекте в 3% будут выдвинуты следующие гипотезы <br>\n",
    "Нулевая гипотеза: программы не отличаются и наблюдаемые различия случайны <br>\n",
    "Альтернативная гипотеза: программы отличаются <br>\n",
    "Тест будет двусторонним, чтобы отследить изменения в обе стороны. <br>\n",
    "Уровень значимости начимости составит 5%, а мощность 80% <br>\n"
   ]
  },
  {
   "cell_type": "markdown",
   "id": "3dee7b7a",
   "metadata": {},
   "source": [
    "## Данные <a class=\"anchor\" id=\"1_3\"></a>"
   ]
  },
  {
   "cell_type": "markdown",
   "id": "9d6e5049",
   "metadata": {},
   "source": [
    "Импортируем все необходимые библиотеки и методы"
   ]
  },
  {
   "cell_type": "code",
   "execution_count": null,
   "id": "c0090785",
   "metadata": {},
   "outputs": [],
   "source": []
  },
  {
   "cell_type": "code",
   "execution_count": 84,
   "id": "2fab9e69",
   "metadata": {},
   "outputs": [],
   "source": [
    "import pandas as pd\n",
    "import numpy as np\n",
    "import seaborn as sns\n",
    "import matplotlib.pyplot as plt\n",
    "import scipy.stats as sps\n",
    "from scipy import linalg\n",
    "import hashlib\n",
    "from tqdm import tqdm"
   ]
  },
  {
   "cell_type": "code",
   "execution_count": 85,
   "id": "6671013d",
   "metadata": {},
   "outputs": [
    {
     "data": {
      "text/html": [
       "<div>\n",
       "<style scoped>\n",
       "    .dataframe tbody tr th:only-of-type {\n",
       "        vertical-align: middle;\n",
       "    }\n",
       "\n",
       "    .dataframe tbody tr th {\n",
       "        vertical-align: top;\n",
       "    }\n",
       "\n",
       "    .dataframe thead th {\n",
       "        text-align: right;\n",
       "    }\n",
       "</style>\n",
       "<table border=\"1\" class=\"dataframe\">\n",
       "  <thead>\n",
       "    <tr style=\"text-align: right;\">\n",
       "      <th></th>\n",
       "      <th>order_id</th>\n",
       "      <th>customer_id</th>\n",
       "      <th>restaurant_name</th>\n",
       "      <th>cuisine_type</th>\n",
       "      <th>cost_of_the_order</th>\n",
       "      <th>day_of_the_week</th>\n",
       "      <th>rating</th>\n",
       "      <th>food_preparation_time</th>\n",
       "      <th>delivery_time</th>\n",
       "    </tr>\n",
       "  </thead>\n",
       "  <tbody>\n",
       "    <tr>\n",
       "      <th>0</th>\n",
       "      <td>1478445</td>\n",
       "      <td>129092</td>\n",
       "      <td>The Meatball Shop</td>\n",
       "      <td>Chinese</td>\n",
       "      <td>32.800610</td>\n",
       "      <td>Weekend</td>\n",
       "      <td>5</td>\n",
       "      <td>22</td>\n",
       "      <td>23</td>\n",
       "    </tr>\n",
       "    <tr>\n",
       "      <th>1</th>\n",
       "      <td>1478446</td>\n",
       "      <td>373255</td>\n",
       "      <td>Blue Ribbon Fried Chicken</td>\n",
       "      <td>Mediterranean</td>\n",
       "      <td>16.695462</td>\n",
       "      <td>Weekday</td>\n",
       "      <td>3</td>\n",
       "      <td>35</td>\n",
       "      <td>15</td>\n",
       "    </tr>\n",
       "    <tr>\n",
       "      <th>2</th>\n",
       "      <td>1478447</td>\n",
       "      <td>302790</td>\n",
       "      <td>Blue Ribbon Sushi</td>\n",
       "      <td>Japanese</td>\n",
       "      <td>14.520490</td>\n",
       "      <td>Weekday</td>\n",
       "      <td>5</td>\n",
       "      <td>25</td>\n",
       "      <td>27</td>\n",
       "    </tr>\n",
       "    <tr>\n",
       "      <th>3</th>\n",
       "      <td>1478448</td>\n",
       "      <td>138024</td>\n",
       "      <td>RedFarm Broadway</td>\n",
       "      <td>American</td>\n",
       "      <td>18.058331</td>\n",
       "      <td>Weekend</td>\n",
       "      <td>Not given</td>\n",
       "      <td>27</td>\n",
       "      <td>26</td>\n",
       "    </tr>\n",
       "    <tr>\n",
       "      <th>4</th>\n",
       "      <td>1478449</td>\n",
       "      <td>384360</td>\n",
       "      <td>J. G. Melon</td>\n",
       "      <td>American</td>\n",
       "      <td>14.972527</td>\n",
       "      <td>Weekday</td>\n",
       "      <td>4</td>\n",
       "      <td>25</td>\n",
       "      <td>28</td>\n",
       "    </tr>\n",
       "  </tbody>\n",
       "</table>\n",
       "</div>"
      ],
      "text/plain": [
       "   order_id  customer_id            restaurant_name   cuisine_type  \\\n",
       "0   1478445       129092          The Meatball Shop        Chinese   \n",
       "1   1478446       373255  Blue Ribbon Fried Chicken  Mediterranean   \n",
       "2   1478447       302790          Blue Ribbon Sushi       Japanese   \n",
       "3   1478448       138024           RedFarm Broadway       American   \n",
       "4   1478449       384360                J. G. Melon       American   \n",
       "\n",
       "   cost_of_the_order day_of_the_week     rating  food_preparation_time  \\\n",
       "0          32.800610         Weekend          5                     22   \n",
       "1          16.695462         Weekday          3                     35   \n",
       "2          14.520490         Weekday          5                     25   \n",
       "3          18.058331         Weekend  Not given                     27   \n",
       "4          14.972527         Weekday          4                     25   \n",
       "\n",
       "   delivery_time  \n",
       "0             23  \n",
       "1             15  \n",
       "2             27  \n",
       "3             26  \n",
       "4             28  "
      ]
     },
     "execution_count": 85,
     "metadata": {},
     "output_type": "execute_result"
    }
   ],
   "source": [
    "df = pd.read_csv('orders_data.csv') # загрузим датасет с данными по заказам за последние 2 недели\n",
    "df.head()"
   ]
  },
  {
   "cell_type": "code",
   "execution_count": 86,
   "id": "9adef9bc",
   "metadata": {},
   "outputs": [
    {
     "data": {
      "text/plain": [
       "(10000, 9)"
      ]
     },
     "execution_count": 86,
     "metadata": {},
     "output_type": "execute_result"
    }
   ],
   "source": [
    "df.shape"
   ]
  },
  {
   "cell_type": "markdown",
   "id": "0d2c7bf8",
   "metadata": {},
   "source": [
    "Посчитаем ежедневное количество заказов, чтобы в конце определить примерную продолжительность АБ теста"
   ]
  },
  {
   "cell_type": "code",
   "execution_count": 87,
   "id": "3c0303c4",
   "metadata": {},
   "outputs": [
    {
     "data": {
      "text/plain": [
       "714"
      ]
     },
     "execution_count": 87,
     "metadata": {},
     "output_type": "execute_result"
    }
   ],
   "source": [
    "daily_orders = round(df.shape[0]/14)\n",
    "daily_orders "
   ]
  },
  {
   "cell_type": "markdown",
   "id": "c7423685",
   "metadata": {},
   "source": [
    "Также на всякий случай сделаем это отдельно для выходных и будних дней"
   ]
  },
  {
   "cell_type": "code",
   "execution_count": 88,
   "id": "fa540f2e",
   "metadata": {},
   "outputs": [],
   "source": [
    "daily_orders_weekend = round(df[df.day_of_the_week=='Weekend']['order_id'].count()/4)"
   ]
  },
  {
   "cell_type": "code",
   "execution_count": 89,
   "id": "c4e7e8d6",
   "metadata": {},
   "outputs": [],
   "source": [
    "daily_orders_weekend = round(df[df.day_of_the_week=='Weekday']['order_id'].count()/10)"
   ]
  },
  {
   "cell_type": "markdown",
   "id": "8f4cf4d3",
   "metadata": {},
   "source": [
    "Посмотрим текущее значение среднего чека"
   ]
  },
  {
   "cell_type": "code",
   "execution_count": 90,
   "id": "84e4e8dc",
   "metadata": {},
   "outputs": [
    {
     "data": {
      "text/plain": [
       "21.04220907594812"
      ]
     },
     "execution_count": 90,
     "metadata": {},
     "output_type": "execute_result"
    }
   ],
   "source": [
    "df.cost_of_the_order.mean()"
   ]
  },
  {
   "cell_type": "markdown",
   "id": "3948b083",
   "metadata": {},
   "source": [
    "Построим гистограмму его распределения"
   ]
  },
  {
   "cell_type": "code",
   "execution_count": 91,
   "id": "1845dfea",
   "metadata": {},
   "outputs": [
    {
     "data": {
      "text/plain": [
       "<AxesSubplot:>"
      ]
     },
     "execution_count": 91,
     "metadata": {},
     "output_type": "execute_result"
    },
    {
     "data": {
      "image/png": "[encoded data removed]",
      "text/plain": [
       "<Figure size 640x480 with 1 Axes>"
      ]
     },
     "metadata": {},
     "output_type": "display_data"
    }
   ],
   "source": [
    "df.cost_of_the_order.hist()"
   ]
  },
  {
   "cell_type": "markdown",
   "id": "ce56ae9e",
   "metadata": {},
   "source": [
    "# 2. Дизайн теста <a class=\"anchor\" id=\"2\"></a>"
   ]
  },
  {
   "cell_type": "markdown",
   "id": "0320d0ac",
   "metadata": {},
   "source": [
    "## Система сплитования <a class=\"anchor\" id=\"2_1\"></a>"
   ]
  },
  {
   "cell_type": "markdown",
   "id": "9de6b311",
   "metadata": {},
   "source": [
    "Сделаем систему сплитования с помощью хэширования с солью, пользователи с четным хэшом будут в контрольной группе, с нечетным во второй"
   ]
  },
  {
   "cell_type": "code",
   "execution_count": 92,
   "id": "e35999fa",
   "metadata": {},
   "outputs": [],
   "source": [
    "def split(id, salt='ab_test', n_groups=2 ):\n",
    "    test_id = str(id) + '-' + str(salt) # добавляем к id соль\n",
    "    return hash(test_id)%n_groups # делаем хэш и берем остаток от деления"
   ]
  },
  {
   "cell_type": "code",
   "execution_count": 93,
   "id": "c2ec98ea",
   "metadata": {},
   "outputs": [],
   "source": [
    "df['group'] = df.customer_id.apply(split)"
   ]
  },
  {
   "cell_type": "code",
   "execution_count": 94,
   "id": "71677ee8",
   "metadata": {},
   "outputs": [
    {
     "data": {
      "text/plain": [
       "1    5077\n",
       "0    4923\n",
       "Name: group, dtype: int64"
      ]
     },
     "execution_count": 94,
     "metadata": {},
     "output_type": "execute_result"
    }
   ],
   "source": [
    "df.group.value_counts()\n"
   ]
  },
  {
   "cell_type": "markdown",
   "id": "b2b19129",
   "metadata": {},
   "source": [
    "Распределяет более-менее равномерно"
   ]
  },
  {
   "cell_type": "code",
   "execution_count": 95,
   "id": "7271b6bb",
   "metadata": {},
   "outputs": [
    {
     "data": {
      "text/plain": [
       "(21.074299033521978, 21.00911528870441)"
      ]
     },
     "execution_count": 95,
     "metadata": {},
     "output_type": "execute_result"
    }
   ],
   "source": [
    "df[df.group==1].cost_of_the_order.mean(),df[df.group==0].cost_of_the_order.mean()"
   ]
  },
  {
   "cell_type": "markdown",
   "id": "2b058905",
   "metadata": {},
   "source": [
    "Средние также примерно равны"
   ]
  },
  {
   "cell_type": "markdown",
   "id": "a25738ad",
   "metadata": {},
   "source": [
    "## Расчет минимального размера выборки <a class=\"anchor\" id=\"2_2\"></a>"
   ]
  },
  {
   "cell_type": "markdown",
   "id": "8d0a102a",
   "metadata": {},
   "source": [
    "Вычисления будут проводиться по следующей формуле:"
   ]
  },
  {
   "cell_type": "markdown",
   "id": "673c8044",
   "metadata": {},
   "source": [
    "$$n > \\dfrac{\\left[ \\Phi^{-1} \\Bigl( 1-\\dfrac{\\alpha}{2} \\Bigr) + \\Phi^{-1} \\Bigl( 1-\\beta \\Bigr) \\right]^2 (\\sigma_A^2 + \\sigma_B^2)}{\\varepsilon^2}$$"
   ]
  },
  {
   "cell_type": "markdown",
   "id": "68012e0d",
   "metadata": {},
   "source": [
    "Где: <br>\n",
    "n - размер выборки <br>\n",
    "$ \\sigma $ - сигма соответствующей выборки <br>\n",
    "$ \\varepsilon $ - минимальный эффект <br>\n",
    "$ \\alpha $ - вероятность ошибки первого рода <br>\n",
    "$\\beta$ - вероятность ошибки второго рода <br>\n",
    "$\\Phi^{-1} () $- соответствующий квантиль нормального распределения <br>"
   ]
  },
  {
   "cell_type": "code",
   "execution_count": 96,
   "id": "634aaa6e",
   "metadata": {},
   "outputs": [],
   "source": [
    "\n",
    "def get_sample_size(e, std, alpha=0.05, beta=0.2):\n",
    "    z_alpha = sps.norm.ppf(1 - alpha / 2, loc=0, scale=1) # считаем квантили\n",
    "    z_beta = sps.norm.ppf(1 - beta, loc=0, scale=1)\n",
    "    square = (z_alpha + z_beta) ** 2 \n",
    "    sample_size = int(\n",
    "        np.ceil(\n",
    "            square * (2 * std ** 2) / (e ** 2) # будем считать что дисперсии выборок одинаковые\n",
    "        )\n",
    "    )\n",
    "    return sample_size"
   ]
  },
  {
   "cell_type": "markdown",
   "id": "4780a87e",
   "metadata": {},
   "source": [
    "Также из этой формулы выведем mde"
   ]
  },
  {
   "cell_type": "code",
   "execution_count": 97,
   "id": "3a2d1aac",
   "metadata": {},
   "outputs": [],
   "source": [
    "\n",
    "def get_mde(sample_size, std, alpha=0.05, beta=0.2):\n",
    "    z_alpha = sps.norm.ppf(1 - alpha / 2, loc=0, scale=1)\n",
    "    z_beta = sps.norm.ppf(1 - beta, loc=0, scale=1)\n",
    "    disp_sum_sqrt = (2 * (std ** 2)) ** 0.5\n",
    "    mde = (z_alpha + z_beta) * disp_sum_sqrt / np.sqrt(sample_size)\n",
    "    return mde"
   ]
  },
  {
   "cell_type": "markdown",
   "id": "76ee3e67",
   "metadata": {},
   "source": [
    "Посчитаем необходимый нам размер "
   ]
  },
  {
   "cell_type": "code",
   "execution_count": 98,
   "id": "02962f77",
   "metadata": {},
   "outputs": [
    {
     "data": {
      "text/plain": [
       "2583"
      ]
     },
     "execution_count": 98,
     "metadata": {},
     "output_type": "execute_result"
    }
   ],
   "source": [
    "metric = df.cost_of_the_order.mean() # метрика\n",
    "std = df.cost_of_the_order.std() # сигма метрики\n",
    "effect = metric*0.03 # наш минимальный эффект\n",
    "sample_size = get_sample_size(effect,std)\n",
    "sample_size"
   ]
  },
  {
   "cell_type": "markdown",
   "id": "808b27b6",
   "metadata": {},
   "source": [
    "## AA-тест <a class=\"anchor\" id=\"2_3\"></a>"
   ]
  },
  {
   "cell_type": "markdown",
   "id": "1eb61d69",
   "metadata": {},
   "source": [
    "Чтобы проверить насколько корректно работает сплитование и расчет выборки проведем AA тесты. В качестве статистического метода будет использовать обычный t-тест"
   ]
  },
  {
   "cell_type": "code",
   "execution_count": 99,
   "id": "e667f50f",
   "metadata": {},
   "outputs": [
    {
     "name": "stderr",
     "output_type": "stream",
     "text": [
      "100%|██████████████████████████████████████████████████████████████████████████████| 1000/1000 [00:23<00:00, 43.04it/s]\n"
     ]
    },
    {
     "data": {
      "text/plain": [
       "[<matplotlib.lines.Line2D at 0x2071c5c4a60>]"
      ]
     },
     "execution_count": 99,
     "metadata": {},
     "output_type": "execute_result"
    },
    {
     "data": {
      "image/png": "[encoded data removed]",
      "text/plain": [
       "<Figure size 640x480 with 1 Axes>"
      ]
     },
     "metadata": {},
     "output_type": "display_data"
    }
   ],
   "source": [
    "salt = '-experiment'\n",
    "count = 1000\n",
    "results_AA = [0 for _ in range(count)]\n",
    "for i in tqdm(range(count)):\n",
    "    sample = df.sample(2*sample_size) # берем необходимый сэмпл из выборки\n",
    "    sample['group'] = sample.customer_id.apply(split, salt = str(i)+salt) # разделяем пользователей с новой солью\n",
    "    a1 = sample[sample.group == 0].cost_of_the_order # берем знаения метрики из первой и второй группы\n",
    "    a2 = sample[sample.group == 1 ].cost_of_the_order \n",
    "    _, p = sps.ttest_ind(a1, a2) \n",
    "    results_AA[i] = p\n",
    "sns.ecdfplot(results_AA).plot([0,1],[0,1], 'k--')"
   ]
  },
  {
   "cell_type": "markdown",
   "id": "2f6f2d01",
   "metadata": {},
   "source": [
    "Pvalue распределен довольно равномерно, посмотрим какая получилась альфа"
   ]
  },
  {
   "cell_type": "code",
   "execution_count": 100,
   "id": "e3b6c2d2",
   "metadata": {},
   "outputs": [
    {
     "data": {
      "text/plain": [
       "0.054"
      ]
     },
     "execution_count": 100,
     "metadata": {},
     "output_type": "execute_result"
    }
   ],
   "source": [
    "sum([i<0.05 for i in results_AA])/1000 # Суммируем все значения pvalue<0.05 и делим на общеее количество"
   ]
  },
  {
   "cell_type": "markdown",
   "id": "619f6b61",
   "metadata": {},
   "source": [
    "Немного ниже ожидаемой, посмотрим как это повлияет на АБ-тесты"
   ]
  },
  {
   "cell_type": "markdown",
   "id": "9d975c86",
   "metadata": {},
   "source": [
    "## AB тест <a class=\"anchor\" id=\"2_4\"></a>"
   ]
  },
  {
   "cell_type": "code",
   "execution_count": 101,
   "id": "7ec7bd21",
   "metadata": {},
   "outputs": [
    {
     "name": "stderr",
     "output_type": "stream",
     "text": [
      "  1%|▌                                                                                | 7/1000 [00:00<00:34, 28.58it/s]"
     ]
    },
    {
     "name": "stderr",
     "output_type": "stream",
     "text": [
      "100%|██████████████████████████████████████████████████████████████████████████████| 1000/1000 [00:22<00:00, 44.80it/s]\n"
     ]
    },
    {
     "data": {
      "text/plain": [
       "[<matplotlib.lines.Line2D at 0x2071c6e8580>]"
      ]
     },
     "execution_count": 101,
     "metadata": {},
     "output_type": "execute_result"
    },
    {
     "data": {
      "image/png": "[encoded data removed]",
      "text/plain": [
       "<Figure size 640x480 with 1 Axes>"
      ]
     },
     "metadata": {},
     "output_type": "display_data"
    }
   ],
   "source": [
    "mu = df.cost_of_the_order.mean()\n",
    "std = df.cost_of_the_order.std()\n",
    "mde = mu*0.03\n",
    "sample_size = get_sample_size(mde,std)\n",
    "count = 1000\n",
    "results_AB = [0 for _ in range(count)]\n",
    "for i in tqdm(range(count)):\n",
    "    sample = df.sample(2*sample_size)\n",
    "    sample['group'] = sample.customer_id.apply(split, salt = str(i)+salt)\n",
    "    a = sample[sample.group == 0].cost_of_the_order\n",
    "    b = sample[sample.group == 1].cost_of_the_order\n",
    "    b+=mde\n",
    "    _, p = sps.ttest_ind(a, b)\n",
    "    results_AB[i] = p\n",
    "sns.ecdfplot(results_AB).plot([0,1],[0,1], 'k--')"
   ]
  },
  {
   "cell_type": "code",
   "execution_count": 102,
   "id": "d64fd845",
   "metadata": {},
   "outputs": [
    {
     "data": {
      "text/plain": [
       "0.793"
      ]
     },
     "execution_count": 102,
     "metadata": {},
     "output_type": "execute_result"
    }
   ],
   "source": [
    "sum([i<0.05 for i in results_AB])/1000"
   ]
  },
  {
   "cell_type": "markdown",
   "id": "2571042d",
   "metadata": {},
   "source": [
    "Все хорошо, мощность на ожидаемом уровне, значит все работает корректно, теперь попробуем немного ускорить наш АБ-тест"
   ]
  },
  {
   "cell_type": "markdown",
   "id": "5a142552",
   "metadata": {
    "scrolled": true
   },
   "source": [
    "## Cuped <a class=\"anchor\" id=\"2_5\"></a>"
   ]
  },
  {
   "cell_type": "markdown",
   "id": "2b8b9cd7",
   "metadata": {},
   "source": [
    "Применим технику повышение чувствительности теста.\n",
    "Для этого нам нужно сделать преобразование нашей ключевой метрики по формуле:"
   ]
  },
  {
   "cell_type": "markdown",
   "id": "4f8f87db",
   "metadata": {},
   "source": [
    "$$\\hat{Y}_{CUPED} = \\overline{Y} - \\theta \\overline{X} + \\theta\\mathbb{E}X$$\n",
    "\n",
    "X - метрика коррелирующая с ключевой <br>\n",
    "$ \\theta $ - специальный параметр, при котором дисперсия cuped метрики достигает минимальных значений\n",
    "\n",
    "Формула для оптимального значения $\\theta$:\n",
    "\n",
    "$$\\theta = \\frac{\\mathrm{cov}(Y,X)}{\\mathbb{V} X}$$"
   ]
  },
  {
   "cell_type": "markdown",
   "id": "204561ae",
   "metadata": {},
   "source": [
    "Чтобы получить показатель, коррелирующий с ключевой метрикой, можно, например, взять ту же ключевую метрику двухнедельной давности. <br> \n",
    "Но сейчас я для примера ее просто сгенерирую"
   ]
  },
  {
   "cell_type": "code",
   "execution_count": 103,
   "id": "80f96e94",
   "metadata": {},
   "outputs": [],
   "source": [
    "def generate_data(df,corr=0.6):\n",
    "    x = df.cost_of_the_order\n",
    "    y = df.sample(df.cost_of_the_order.count(),  # берем сэмпл данных из оригинальной выборки и немного рандомизируем\n",
    "                   replace=True).cost_of_the_order+np.random.normal(0,2, size = df.cost_of_the_order.count())\n",
    "    y = y.to_list()\n",
    "    x = [[x[i],y[i]] for i in range(len(x))] # создаем одну матрицу с двумя столбцами\n",
    "    corr_mat = np.array([ # создаем матрицу с нужной корреляцией\n",
    "        [1.0, corr],\n",
    "        [corr, 1.0]]) \n",
    "    upper_chol = linalg.cholesky(corr_mat) # применяем разложение Холецкого\n",
    "    y = np.dot(x, upper_chol) # считаем скалярное произведение полученных матриц\n",
    "    df['cost_of_the_order'] = [i[0] for i in y] # помещаем значение каждой переменной в датафрейм\n",
    "    df['covar'] = [i[1] for i in y]\n",
    "    return df"
   ]
  },
  {
   "cell_type": "code",
   "execution_count": 104,
   "id": "861d29f9",
   "metadata": {},
   "outputs": [],
   "source": [
    "df_new = generate_data(df,corr=0.5)"
   ]
  },
  {
   "cell_type": "code",
   "execution_count": 105,
   "id": "8c616a5d",
   "metadata": {},
   "outputs": [
    {
     "data": {
      "text/html": [
       "<div>\n",
       "<style scoped>\n",
       "    .dataframe tbody tr th:only-of-type {\n",
       "        vertical-align: middle;\n",
       "    }\n",
       "\n",
       "    .dataframe tbody tr th {\n",
       "        vertical-align: top;\n",
       "    }\n",
       "\n",
       "    .dataframe thead th {\n",
       "        text-align: right;\n",
       "    }\n",
       "</style>\n",
       "<table border=\"1\" class=\"dataframe\">\n",
       "  <thead>\n",
       "    <tr style=\"text-align: right;\">\n",
       "      <th></th>\n",
       "      <th>cost_of_the_order</th>\n",
       "      <th>covar</th>\n",
       "    </tr>\n",
       "  </thead>\n",
       "  <tbody>\n",
       "    <tr>\n",
       "      <th>cost_of_the_order</th>\n",
       "      <td>1.000000</td>\n",
       "      <td>0.490687</td>\n",
       "    </tr>\n",
       "    <tr>\n",
       "      <th>covar</th>\n",
       "      <td>0.490687</td>\n",
       "      <td>1.000000</td>\n",
       "    </tr>\n",
       "  </tbody>\n",
       "</table>\n",
       "</div>"
      ],
      "text/plain": [
       "                   cost_of_the_order     covar\n",
       "cost_of_the_order           1.000000  0.490687\n",
       "covar                       0.490687  1.000000"
      ]
     },
     "execution_count": 105,
     "metadata": {},
     "output_type": "execute_result"
    }
   ],
   "source": [
    "df_new[['cost_of_the_order','covar']].corr()"
   ]
  },
  {
   "cell_type": "markdown",
   "id": "74d262fc",
   "metadata": {},
   "source": [
    "Работает, отлично <br>\n",
    "Теперь напишем функции, которые по формулам будут считать cuped-метрики"
   ]
  },
  {
   "cell_type": "code",
   "execution_count": 106,
   "id": "3de037fe",
   "metadata": {},
   "outputs": [],
   "source": [
    "# Функцию которая нам будем сразу по формуле выводить значение theta\n",
    "def get_theta(y_control, y_test, x_control, x_test):\n",
    "    y = np.hstack([y_control, y_test])\n",
    "    x = np.hstack([x_control, x_test])\n",
    "    covariance = np.cov(x, y)[0, 1] # cчитаем ковариацию\n",
    "    variance = x.var() # cчитаем дисперсию ковариаты\n",
    "    theta = covariance / variance\n",
    "    return theta\n",
    "\n",
    "# Функцию которая автоматически будем проводить t-тест и выдавать pvalue\n",
    "def check_test(df_control, df_test, metric): \n",
    "    values_control = df_control[metric].values\n",
    "    values_test = df_test[metric].values\n",
    "    _, pvalue = sps.ttest_ind(values_control, values_test)\n",
    "    return pvalue\n",
    "\n",
    "# Функция считает cuped метрики и проводит t-тест\n",
    "def check_cuped_test(df_control, df_test,metric, metric_before):\n",
    "    theta = get_theta(\n",
    "        df_control[metric], df_test[metric],\n",
    "        df_control[metric_before], df_test[metric_before]\n",
    "    )\n",
    "    # посчитаем по формуле значение cuped метрик в контроле и в тесте\n",
    "    metric_cuped_control = df_control[metric] - theta * df_control[metric_before]\n",
    "    metric_cuped_test = df_test[metric] - theta * df_test[metric_before]\n",
    "    _, pvalue = sps.ttest_ind(metric_cuped_control, metric_cuped_test)\n",
    "    return pvalue\n"
   ]
  },
  {
   "cell_type": "markdown",
   "id": "ac59073a",
   "metadata": {},
   "source": [
    "Посмотрим как это работает на практике. Начнем c АА теста"
   ]
  },
  {
   "cell_type": "code",
   "execution_count": 107,
   "id": "ff727aa3",
   "metadata": {},
   "outputs": [
    {
     "name": "stderr",
     "output_type": "stream",
     "text": [
      "  2%|█▏                                                                              | 15/1000 [00:00<00:44, 21.95it/s]"
     ]
    },
    {
     "name": "stderr",
     "output_type": "stream",
     "text": [
      "100%|██████████████████████████████████████████████████████████████████████████████| 1000/1000 [00:31<00:00, 32.07it/s]\n"
     ]
    }
   ],
   "source": [
    "corr = 0.7 # задаем корреляцию\n",
    "df_new = generate_data(df,corr=0.7) # генерим данные\n",
    "mu = df_new.cost_of_the_order.mean() # считаем среднее и сигму получившихся значений\n",
    "std = df_new.cost_of_the_order.std() \n",
    "\n",
    "sample_size = get_sample_size(mde,std) # находим размер выборки\n",
    "count = 1000\n",
    "\n",
    "# Создадим массивы куда будем заносить получившиеся pvalue\n",
    "pvalues = [0 for i in range(count)]\n",
    "pvalues_cuped = [0 for i in range(count)]\n",
    "for i in tqdm(range(count)):\n",
    "    sample = df.sample(2*sample_size).copy()\n",
    "    sample['group'] = sample.customer_id.apply(split, salt = str(i)+salt)\n",
    "    a1 = sample[sample.group == 0]\n",
    "    a2 = sample[sample.group == 1 ]\n",
    "    pvalue = check_test(a1,a2,'cost_of_the_order')\n",
    "    pvalue_cuped = check_cuped_test(a1,a2,'cost_of_the_order','covar')\n",
    "    pvalues[i] = pvalue\n",
    "    pvalues_cuped[i] = pvalue_cuped"
   ]
  },
  {
   "cell_type": "markdown",
   "id": "06166cbe",
   "metadata": {},
   "source": [
    "Построим графики расределения pvalue"
   ]
  },
  {
   "cell_type": "code",
   "execution_count": 108,
   "id": "fde7e49e",
   "metadata": {},
   "outputs": [
    {
     "data": {
      "text/plain": [
       "<matplotlib.legend.Legend at 0x2071c68aca0>"
      ]
     },
     "execution_count": 108,
     "metadata": {},
     "output_type": "execute_result"
    },
    {
     "data": {
      "image/png": "[encoded data removed]",
      "text/plain": [
       "<Figure size 640x480 with 1 Axes>"
      ]
     },
     "metadata": {},
     "output_type": "display_data"
    }
   ],
   "source": [
    "sns.ecdfplot(pvalues, label = 'ttest').plot([0,1],[0,1], 'k--')\n",
    "sns.ecdfplot(pvalues_cuped, label = 'cuped').plot([0,1],[0,1], 'k--')\n",
    "plt.legend()"
   ]
  },
  {
   "cell_type": "markdown",
   "id": "072d4828",
   "metadata": {},
   "source": [
    "Видно что Cuped-метрика имеет такое же равномерное распределение pvalue как и у t-теста, ну а теперь посмотрим что у нее с мощностью"
   ]
  },
  {
   "cell_type": "code",
   "execution_count": 109,
   "id": "5c761f88",
   "metadata": {},
   "outputs": [
    {
     "name": "stderr",
     "output_type": "stream",
     "text": [
      "100%|██████████████████████████████████████████████████████████████████████████████| 1000/1000 [00:32<00:00, 30.81it/s]\n"
     ]
    }
   ],
   "source": [
    "\n",
    "mde = mu*0.03 # минимальный эффект 3%\n",
    "count = 1000\n",
    "\n",
    "\n",
    "pvalues = [0 for i in range(count)]\n",
    "pvalues_cuped = [0 for i in range(count)]\n",
    "for i in tqdm(range(count)):\n",
    "    sample = df.sample(2*sample_size)\n",
    "    sample['group'] = sample.customer_id.apply(split, salt = str(i)+salt)\n",
    "    a = sample[sample.group == 0].copy()\n",
    "    b = sample[sample.group == 1 ].copy()\n",
    "    b.cost_of_the_order+=mde\n",
    "    pvalue = check_test(a,b,'cost_of_the_order')\n",
    "    pvalue_cuped = check_cuped_test(a,b,'cost_of_the_order','covar')\n",
    "    pvalues[i] = pvalue\n",
    "    pvalues_cuped[i] = pvalue_cuped"
   ]
  },
  {
   "cell_type": "markdown",
   "id": "48286022",
   "metadata": {},
   "source": [
    "Строим графики"
   ]
  },
  {
   "cell_type": "code",
   "execution_count": 110,
   "id": "062f03ac",
   "metadata": {},
   "outputs": [
    {
     "data": {
      "text/plain": [
       "<matplotlib.legend.Legend at 0x2071c4eda00>"
      ]
     },
     "execution_count": 110,
     "metadata": {},
     "output_type": "execute_result"
    },
    {
     "data": {
      "image/png": "[encoded data removed]",
      "text/plain": [
       "<Figure size 640x480 with 1 Axes>"
      ]
     },
     "metadata": {},
     "output_type": "display_data"
    }
   ],
   "source": [
    "sns.ecdfplot(pvalues, label = 'ttest').plot([0,1],[0,1], 'k--')\n",
    "sns.ecdfplot(pvalues_cuped, label = 'cuped').plot([0,1],[0,1], 'k--')\n",
    "plt.legend()"
   ]
  },
  {
   "cell_type": "markdown",
   "id": "ade19e1a",
   "metadata": {},
   "source": [
    "Видно, что мощность действительно повысилась, посмотрим насколько"
   ]
  },
  {
   "cell_type": "code",
   "execution_count": 111,
   "id": "04501cde",
   "metadata": {},
   "outputs": [
    {
     "data": {
      "text/plain": [
       "0.799"
      ]
     },
     "execution_count": 111,
     "metadata": {},
     "output_type": "execute_result"
    }
   ],
   "source": [
    "sum([i<0.05 for i in pvalues])/1000"
   ]
  },
  {
   "cell_type": "code",
   "execution_count": 112,
   "id": "bfa9a35e",
   "metadata": {},
   "outputs": [
    {
     "data": {
      "text/plain": [
       "0.97"
      ]
     },
     "execution_count": 112,
     "metadata": {},
     "output_type": "execute_result"
    }
   ],
   "source": [
    "sum([i<0.05 for i in pvalues_cuped])/1000"
   ]
  },
  {
   "cell_type": "markdown",
   "id": "7e15192a",
   "metadata": {},
   "source": [
    "Неплохой прирост. Так как цель этого метода в понижении дисперсии, сейчас посмотрим на сколько процентов снижается дисперсия в зависимости от значений корелляции"
   ]
  },
  {
   "cell_type": "markdown",
   "id": "13944ecd",
   "metadata": {},
   "source": [
    "## Проверка изменения дисперсии"
   ]
  },
  {
   "cell_type": "code",
   "execution_count": 113,
   "id": "45f872ab",
   "metadata": {},
   "outputs": [
    {
     "name": "stderr",
     "output_type": "stream",
     "text": [
      "100%|████████████████████████████████████████████████████████████████████████████████████| 9/9 [00:02<00:00,  4.48it/s]\n"
     ]
    }
   ],
   "source": [
    "corrs = [i/10 for i in range(1,10)] #  сделаем массим занчений корреляции от 0.1 до 0.9\n",
    "\n",
    "# создадим массивы куда будем помещать полученные значения\n",
    "real_corr = []\n",
    "var_reduc = []\n",
    "for c in tqdm(corrs):\n",
    "    df_new = generate_data(df,corr=c) \n",
    "    df_new['group'] = df_new.customer_id.apply(lambda x: split(x,salt='-cuped_test'))\n",
    "\n",
    "    var_1 = df_new.cost_of_the_order.var(ddof=1) # считаем дисперсию ключевой метрики\n",
    "    corr = df_new[['cost_of_the_order','covar']].corr().iloc[0,1] # берем значение корреляции которое по-факту получилось сгенерировать\n",
    "    var_2 = round(var_1*(1-corr**2),2) # считаем дисперсию cuped метрики по формуле (формула взята из доклада Валеры Бабушкина) \n",
    "    real_corr.append(round(corr,2))\n",
    "    var_reduc.append(round((var_1-var_2)/var_1*100,2))"
   ]
  },
  {
   "cell_type": "code",
   "execution_count": 114,
   "id": "0efcaf73",
   "metadata": {},
   "outputs": [
    {
     "data": {
      "text/plain": [
       "<AxesSubplot:>"
      ]
     },
     "execution_count": 114,
     "metadata": {},
     "output_type": "execute_result"
    },
    {
     "data": {
      "image/png": "[encoded data removed]",
      "text/plain": [
       "<Figure size 640x480 with 1 Axes>"
      ]
     },
     "metadata": {},
     "output_type": "display_data"
    }
   ],
   "source": [
    "sns.lineplot(x = real_corr,y=var_reduc)"
   ]
  },
  {
   "cell_type": "markdown",
   "id": "87a6abc8",
   "metadata": {},
   "source": [
    "Видно что после 0.4 начинаются самые большие темпы роста, <br>\n",
    "а при корреляции в 0.9 можно добиться сокращения дисперсии аж на 80% <br>\n",
    "Теперь посчитаем как благодаря этому изменяется необходимый размер выборки\n"
   ]
  },
  {
   "cell_type": "markdown",
   "id": "cba759cb",
   "metadata": {},
   "source": [
    "## Влияние на Размер выборки"
   ]
  },
  {
   "cell_type": "code",
   "execution_count": 115,
   "id": "7753bd3f",
   "metadata": {},
   "outputs": [
    {
     "name": "stderr",
     "output_type": "stream",
     "text": [
      "  0%|                                                                                            | 0/9 [00:00<?, ?it/s]"
     ]
    },
    {
     "name": "stderr",
     "output_type": "stream",
     "text": [
      "100%|████████████████████████████████████████████████████████████████████████████████████| 9/9 [00:01<00:00,  6.17it/s]\n"
     ]
    }
   ],
   "source": [
    "corrs = [i/10 for i in range(1,10)]\n",
    "mde = df.cost_of_the_order.mean()*0.03\n",
    "\n",
    "real_corr = []\n",
    "sizes = []\n",
    "for c in tqdm(corrs):\n",
    "    df_new = generate_data(df,corr=c)\n",
    "    df_new['group'] = df_new.customer_id.apply(lambda x: split(x,salt='-cuped_test'))\n",
    "    var_1 = df_new.cost_of_the_order.var(ddof=1)\n",
    "    corr = df_new[['cost_of_the_order','covar']].corr().iloc[0,1]\n",
    "    var_2 = round(var_1*(1-corr**2),2)\n",
    "    sample_size = get_sample_size(e = mde, std = var_2**(1/2)) # считаем размер выборки но уже для дисперсии cuped метрики\n",
    "    real_corr.append(round(corr,2))\n",
    "    sizes.append(sample_size)"
   ]
  },
  {
   "cell_type": "code",
   "execution_count": 116,
   "id": "ca35062e",
   "metadata": {},
   "outputs": [
    {
     "data": {
      "text/plain": [
       "<AxesSubplot:>"
      ]
     },
     "execution_count": 116,
     "metadata": {},
     "output_type": "execute_result"
    },
    {
     "data": {
      "image/png": "[encoded data removed]",
      "text/plain": [
       "<Figure size 640x480 with 1 Axes>"
      ]
     },
     "metadata": {},
     "output_type": "display_data"
    }
   ],
   "source": [
    "sns.lineplot(x = corrs,y=sizes)"
   ]
  },
  {
   "cell_type": "markdown",
   "id": "0cb3b0b1",
   "metadata": {},
   "source": [
    "Хорошая динамика. Судя по графику при корреляции в 0.7 мы можем добиться требуемой мощности с выборкми размером около 1250 пользователей, сейчас это проверим"
   ]
  },
  {
   "cell_type": "code",
   "execution_count": 117,
   "id": "f95e2c04",
   "metadata": {},
   "outputs": [
    {
     "name": "stdout",
     "output_type": "stream",
     "text": [
      "А точнее 1374 пользователя\n"
     ]
    }
   ],
   "source": [
    "print(f'А точнее {sizes[-3]} пользователя')"
   ]
  },
  {
   "cell_type": "code",
   "execution_count": 118,
   "id": "876b7ab0",
   "metadata": {},
   "outputs": [
    {
     "name": "stderr",
     "output_type": "stream",
     "text": [
      "  0%|▎                                                                                | 4/1000 [00:00<00:26, 38.10it/s]"
     ]
    },
    {
     "name": "stderr",
     "output_type": "stream",
     "text": [
      "100%|██████████████████████████████████████████████████████████████████████████████| 1000/1000 [00:21<00:00, 46.45it/s]\n"
     ]
    }
   ],
   "source": [
    "\n",
    "corr = 0.7\n",
    "df_new = generate_data(df=df,corr=corr) \n",
    "\n",
    "mu = df_new.cost_of_the_order.mean()\n",
    "mde = mu*0.03\n",
    "sample_size = sizes[-3] # берем размер выборки из прошлого массива\n",
    "count = 1000\n",
    "\n",
    "pvalues = [0 for i in range(count)]\n",
    "pvalues_cuped = [0 for i in range(count)]\n",
    "for i in tqdm(range(count)):\n",
    "    sample = df.sample(2*sample_size)\n",
    "    sample['group'] = sample.customer_id.apply(split, salt = str(i)+salt)\n",
    "    a = sample[sample.group == 0].copy()\n",
    "    b = sample[sample.group == 1 ].copy()\n",
    "    b['cost_of_the_order']+=mde\n",
    "    pvalue = check_test(a,b,'cost_of_the_order')\n",
    "    pvalue_cuped = check_cuped_test(a,b,'cost_of_the_order','covar')\n",
    "    pvalues[i] = pvalue\n",
    "    pvalues_cuped[i] = pvalue_cuped"
   ]
  },
  {
   "cell_type": "code",
   "execution_count": 119,
   "id": "4e8900bb",
   "metadata": {},
   "outputs": [
    {
     "data": {
      "text/plain": [
       "<matplotlib.legend.Legend at 0x2071c51f250>"
      ]
     },
     "execution_count": 119,
     "metadata": {},
     "output_type": "execute_result"
    },
    {
     "data": {
      "image/png": "[encoded data removed]",
      "text/plain": [
       "<Figure size 640x480 with 1 Axes>"
      ]
     },
     "metadata": {},
     "output_type": "display_data"
    }
   ],
   "source": [
    "sns.ecdfplot(pvalues, label = 'ttest').plot([0,1],[0,1], 'k--')\n",
    "sns.ecdfplot(pvalues_cuped, label = 'cuped').plot([0,1],[0,1], 'k--')\n",
    "plt.legend()"
   ]
  },
  {
   "cell_type": "code",
   "execution_count": 120,
   "id": "ff499099",
   "metadata": {},
   "outputs": [
    {
     "data": {
      "text/plain": [
       "0.546"
      ]
     },
     "execution_count": 120,
     "metadata": {},
     "output_type": "execute_result"
    }
   ],
   "source": [
    "sum([i<0.05 for i in pvalues])/1000"
   ]
  },
  {
   "cell_type": "code",
   "execution_count": 121,
   "id": "08c95b13",
   "metadata": {},
   "outputs": [
    {
     "data": {
      "text/plain": [
       "0.832"
      ]
     },
     "execution_count": 121,
     "metadata": {},
     "output_type": "execute_result"
    }
   ],
   "source": [
    "sum([i<0.05 for i in pvalues_cuped])/1000"
   ]
  },
  {
   "cell_type": "markdown",
   "id": "ab84b9bc",
   "metadata": {},
   "source": [
    "Мощность действительно осталась такой же. Таким образом благодаря Cuped мы смогли практически в два раза сократить требуемый размер выборки"
   ]
  },
  {
   "cell_type": "code",
   "execution_count": 122,
   "id": "4f8b350b",
   "metadata": {},
   "outputs": [
    {
     "name": "stdout",
     "output_type": "stream",
     "text": [
      "Значит конечная продолжительность аб теста составит 4.0 дня\n"
     ]
    }
   ],
   "source": [
    "print(f'Значит конечная продолжительность аб теста составит {np.ceil(sizes[-3]*2/daily_orders)} дня')"
   ]
  },
  {
   "cell_type": "markdown",
   "id": "fc89f3b3",
   "metadata": {},
   "source": [
    "# Итоги <a class=\"anchor\" id=\"3\"></a>\n",
    "- Мы создали систему сплитования пользователей\n",
    "- Вычислили необходимый размер выборок\n",
    "- С помощью синтетических тестов проверили корректность созданного дизайна\n",
    "- Применили методику повышения чувствительности тестов Cuped и снизили требуемый размер выборки почти в два раза"
   ]
  },
  {
   "cell_type": "markdown",
   "id": "10011851",
   "metadata": {},
   "source": [
    "## Результат\n",
    "Длительность АБ-теста составит 4 дня, мы распределяем пользователей на группы с помощью хэширования с солью их айдишников, по истечению необходимого периода времени мы с помощью t-теста подсчитаем  pvalue получившихся значений cuped-метрики, если pvalue окажется меньше 0.05, то отвергаем гипотезу о равенстве метрик.  Вероятности совершить ошибку первого и второго рода составят 5% и 20% соответственно. <br>\n",
    "\n",
    "\n",
    "Также важно следить за другими ключевыми метриками компании, например за средним количеством заказов в день, чтобы в итоге понимать, оказался ли общий tradeoff по метрикам положительным.\n"
   ]
  }
 ],
 "metadata": {
  "kernelspec": {
   "display_name": "Python 3 (ipykernel)",
   "language": "python",
   "name": "python3"
  }
 },
 "nbformat": 4,
 "nbformat_minor": 5
}
